{
 "cells": [
  {
   "cell_type": "code",
   "execution_count": 1,
   "metadata": {},
   "outputs": [
    {
     "ename": "KeyboardInterrupt",
     "evalue": "",
     "output_type": "error",
     "traceback": [
      "\u001b[0;31m---------------------------------------------------------------------------\u001b[0m",
      "\u001b[0;31mKeyboardInterrupt\u001b[0m                         Traceback (most recent call last)",
      "\u001b[0;32m<ipython-input-1-363b28bde466>\u001b[0m in \u001b[0;36m<module>\u001b[0;34m()\u001b[0m\n\u001b[1;32m     63\u001b[0m     \u001b[0mprint\u001b[0m\u001b[0;34m(\u001b[0m\u001b[0;34m\"bye!\"\u001b[0m\u001b[0;34m)\u001b[0m\u001b[0;34m\u001b[0m\u001b[0m\n\u001b[1;32m     64\u001b[0m \u001b[0;34m\u001b[0m\u001b[0m\n\u001b[0;32m---> 65\u001b[0;31m \u001b[0mrun\u001b[0m\u001b[0;34m(\u001b[0m\u001b[0;36m400\u001b[0m\u001b[0;34m,\u001b[0m \u001b[0;36m200\u001b[0m\u001b[0;34m)\u001b[0m\u001b[0;34m\u001b[0m\u001b[0m\n\u001b[0m",
      "\u001b[0;32m<ipython-input-1-363b28bde466>\u001b[0m in \u001b[0;36mrun\u001b[0;34m(width, height)\u001b[0m\n\u001b[1;32m     60\u001b[0m     \u001b[0mredrawAll\u001b[0m\u001b[0;34m(\u001b[0m\u001b[0mcanvas\u001b[0m\u001b[0;34m,\u001b[0m \u001b[0mdata\u001b[0m\u001b[0;34m)\u001b[0m\u001b[0;34m\u001b[0m\u001b[0m\n\u001b[1;32m     61\u001b[0m     \u001b[0;31m# and launch the app\u001b[0m\u001b[0;34m\u001b[0m\u001b[0;34m\u001b[0m\u001b[0m\n\u001b[0;32m---> 62\u001b[0;31m     \u001b[0mroot\u001b[0m\u001b[0;34m.\u001b[0m\u001b[0mmainloop\u001b[0m\u001b[0;34m(\u001b[0m\u001b[0;34m)\u001b[0m  \u001b[0;31m# blocks until window is closed\u001b[0m\u001b[0;34m\u001b[0m\u001b[0m\n\u001b[0m\u001b[1;32m     63\u001b[0m     \u001b[0mprint\u001b[0m\u001b[0;34m(\u001b[0m\u001b[0;34m\"bye!\"\u001b[0m\u001b[0;34m)\u001b[0m\u001b[0;34m\u001b[0m\u001b[0m\n\u001b[1;32m     64\u001b[0m \u001b[0;34m\u001b[0m\u001b[0m\n",
      "\u001b[0;32m/usr/local/Cellar/python3/3.6.1/Frameworks/Python.framework/Versions/3.6/lib/python3.6/tkinter/__init__.py\u001b[0m in \u001b[0;36mmainloop\u001b[0;34m(self, n)\u001b[0m\n\u001b[1;32m   1275\u001b[0m     \u001b[0;32mdef\u001b[0m \u001b[0mmainloop\u001b[0m\u001b[0;34m(\u001b[0m\u001b[0mself\u001b[0m\u001b[0;34m,\u001b[0m \u001b[0mn\u001b[0m\u001b[0;34m=\u001b[0m\u001b[0;36m0\u001b[0m\u001b[0;34m)\u001b[0m\u001b[0;34m:\u001b[0m\u001b[0;34m\u001b[0m\u001b[0m\n\u001b[1;32m   1276\u001b[0m         \u001b[0;34m\"\"\"Call the mainloop of Tk.\"\"\"\u001b[0m\u001b[0;34m\u001b[0m\u001b[0m\n\u001b[0;32m-> 1277\u001b[0;31m         \u001b[0mself\u001b[0m\u001b[0;34m.\u001b[0m\u001b[0mtk\u001b[0m\u001b[0;34m.\u001b[0m\u001b[0mmainloop\u001b[0m\u001b[0;34m(\u001b[0m\u001b[0mn\u001b[0m\u001b[0;34m)\u001b[0m\u001b[0;34m\u001b[0m\u001b[0m\n\u001b[0m\u001b[1;32m   1278\u001b[0m     \u001b[0;32mdef\u001b[0m \u001b[0mquit\u001b[0m\u001b[0;34m(\u001b[0m\u001b[0mself\u001b[0m\u001b[0;34m)\u001b[0m\u001b[0;34m:\u001b[0m\u001b[0;34m\u001b[0m\u001b[0m\n\u001b[1;32m   1279\u001b[0m         \u001b[0;34m\"\"\"Quit the Tcl interpreter. All widgets will be destroyed.\"\"\"\u001b[0m\u001b[0;34m\u001b[0m\u001b[0m\n",
      "\u001b[0;31mKeyboardInterrupt\u001b[0m: "
     ]
    }
   ],
   "source": [
    "# Basic Animation Framework\n",
    "\n",
    "from tkinter import *\n",
    "\n",
    "####################################\n",
    "# customize these functions\n",
    "####################################\n",
    "\n",
    "def init(data):\n",
    "    # load data.xyz as appropriate\n",
    "    pass\n",
    "\n",
    "def mousePressed(event, data):\n",
    "    # use event.x and event.y\n",
    "    pass\n",
    "\n",
    "def keyPressed(event, data):\n",
    "    # use event.char and event.keysym\n",
    "    pass\n",
    "\n",
    "def redrawAll(canvas, data):\n",
    "    # draw in canvas\n",
    "    pass\n",
    "\n",
    "####################################\n",
    "# use the run function as-is\n",
    "####################################\n",
    "\n",
    "def run(width=300, height=300):\n",
    "    def redrawAllWrapper(canvas, data):\n",
    "        canvas.delete(ALL)\n",
    "        canvas.create_rectangle(0, 0, data.width, data.height,\n",
    "                                fill='white', width=0)\n",
    "        redrawAll(canvas, data)\n",
    "        canvas.update()    \n",
    "\n",
    "    def mousePressedWrapper(event, canvas, data):\n",
    "        mousePressed(event, data)\n",
    "        redrawAllWrapper(canvas, data)\n",
    "\n",
    "    def keyPressedWrapper(event, canvas, data):\n",
    "        keyPressed(event, data)\n",
    "        redrawAllWrapper(canvas, data)\n",
    "\n",
    "    # Set up data and call init\n",
    "    class Struct(object): pass\n",
    "    data = Struct()\n",
    "    data.width = width\n",
    "    data.height = height\n",
    "    root = Tk()\n",
    "    init(data)\n",
    "    # create the root and the canvas\n",
    "    canvas = Canvas(root, width=data.width, height=data.height)\n",
    "    canvas.pack()\n",
    "    # set up events\n",
    "    root.bind(\"<Button-1>\", lambda event:\n",
    "                            mousePressedWrapper(event, canvas, data))\n",
    "    root.bind(\"<Key>\", lambda event:\n",
    "                            keyPressedWrapper(event, canvas, data))\n",
    "    redrawAll(canvas, data)\n",
    "    # and launch the app\n",
    "    root.mainloop()  # blocks until window is closed\n",
    "    print(\"bye!\")\n",
    "\n",
    "run(400, 200)"
   ]
  },
  {
   "cell_type": "code",
   "execution_count": null,
   "metadata": {},
   "outputs": [],
   "source": []
  }
 ],
 "metadata": {
  "kernelspec": {
   "display_name": "Python 3",
   "language": "python",
   "name": "python3"
  },
  "language_info": {
   "codemirror_mode": {
    "name": "ipython",
    "version": 3
   },
   "file_extension": ".py",
   "mimetype": "text/x-python",
   "name": "python",
   "nbconvert_exporter": "python",
   "pygments_lexer": "ipython3",
   "version": "3.6.1"
  }
 },
 "nbformat": 4,
 "nbformat_minor": 2
}
