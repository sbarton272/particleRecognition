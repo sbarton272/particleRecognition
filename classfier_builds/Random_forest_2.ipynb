{
 "cells": [
  {
   "cell_type": "code",
   "execution_count": 9,
   "metadata": {},
   "outputs": [],
   "source": [
    "import rf_classifier as rf"
   ]
  },
  {
   "cell_type": "code",
   "execution_count": 2,
   "metadata": {},
   "outputs": [],
   "source": [
    "%load_ext autoreload"
   ]
  },
  {
   "cell_type": "code",
   "execution_count": 3,
   "metadata": {},
   "outputs": [],
   "source": [
    "%autoreload 2"
   ]
  },
  {
   "cell_type": "code",
   "execution_count": 5,
   "metadata": {},
   "outputs": [],
   "source": [
    "og_dir = '/Users/cgroschner/Box Sync/Research/HR-TEM/particleRecognition'\n",
    "new_dir = '/Users/cgroschner/Desktop/rf_2_data'"
   ]
  },
  {
   "cell_type": "code",
   "execution_count": 10,
   "metadata": {},
   "outputs": [
    {
     "name": "stdout",
     "output_type": "stream",
     "text": [
      "['.DS_Store', '20171117_CdSe', '20171211_CdSe_101729F_TEAM05', '20180117', '20180209', '20180220', '20180227', '20180329']\n",
      "0\n",
      "0\n",
      "162\n",
      "162\n",
      "306\n",
      "305\n",
      "52\n",
      "52\n",
      "193\n",
      "52\n",
      "102\n",
      "102\n",
      "111\n",
      "111\n",
      "67\n",
      "67\n",
      "done\n"
     ]
    }
   ],
   "source": [
    "rf.file_relabel(og_dir,new_dir)"
   ]
  },
  {
   "cell_type": "code",
   "execution_count": null,
   "metadata": {},
   "outputs": [],
   "source": []
  }
 ],
 "metadata": {
  "kernelspec": {
   "display_name": "Python 3",
   "language": "python",
   "name": "python3"
  },
  "language_info": {
   "codemirror_mode": {
    "name": "ipython",
    "version": 3
   },
   "file_extension": ".py",
   "mimetype": "text/x-python",
   "name": "python",
   "nbconvert_exporter": "python",
   "pygments_lexer": "ipython3",
   "version": "3.6.4"
  }
 },
 "nbformat": 4,
 "nbformat_minor": 2
}
