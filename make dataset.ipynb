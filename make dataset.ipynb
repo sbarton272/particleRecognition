{
 "cells": [
  {
   "cell_type": "code",
   "execution_count": 2,
   "metadata": {},
   "outputs": [],
   "source": [
    "import numpy as np\n",
    "from scipy.misc import imread\n",
    "import glob\n",
    "from skimage import util \n",
    "from skimage import io as io\n",
    "import pickle"
   ]
  },
  {
   "cell_type": "code",
   "execution_count": 9,
   "metadata": {},
   "outputs": [
    {
     "ename": "SyntaxError",
     "evalue": "can't assign to function call (<ipython-input-9-880274f465b8>, line 14)",
     "output_type": "error",
     "traceback": [
      "\u001b[0;36m  File \u001b[0;32m\"<ipython-input-9-880274f465b8>\"\u001b[0;36m, line \u001b[0;32m14\u001b[0m\n\u001b[0;31m    data(i) = im\u001b[0m\n\u001b[0m    ^\u001b[0m\n\u001b[0;31mSyntaxError\u001b[0m\u001b[0;31m:\u001b[0m can't assign to function call\n"
     ]
    }
   ],
   "source": [
    "path = \"/Users/cgroschner/Box Sync/Research/Training Data/SegmentedImages_DotNoFringe/*.png\"    \n",
    "path2 = \"/Users/cgroschner/Box Sync/Research/Training Data/SegmentedImage_Nothing/*.png\"\n",
    "label = 1 #to indicate contains particle\n",
    "label2 = 0 #indicates contains no particle\n",
    "print(label)\n",
    "data = []\n",
    "target = []\n",
    "data2 = []\n",
    "target2 = []\n",
    "i = 0\n",
    "for fname in glob.glob(path):\n",
    "    #files = io.imread_collection(fname,True)\n",
    "    im = np.ravel(np.array(imread(fname)))\n",
    "    data(i) = im\n",
    "    target(i) = label\n",
    "    i = i+1\n",
    "    break\n",
    "\n",
    "i=0\n",
    "for i,fname in glob.glob(path2):\n",
    "    #files = io.imread_collection(fname,True)\n",
    "    im = np.ravel(np.array(imread(fname)))\n",
    "    data2[i] = im\n",
    "    target2[i] = label2\n",
    "    i = i+1\n",
    "\n",
    "    \n",
    "\n",
    "\n",
    "\n",
    "    "
   ]
  },
  {
   "cell_type": "code",
   "execution_count": null,
   "metadata": {},
   "outputs": [],
   "source": []
  }
 ],
 "metadata": {
  "kernelspec": {
   "display_name": "Python 3",
   "language": "python",
   "name": "python3"
  },
  "language_info": {
   "codemirror_mode": {
    "name": "ipython",
    "version": 3
   },
   "file_extension": ".py",
   "mimetype": "text/x-python",
   "name": "python",
   "nbconvert_exporter": "python",
   "pygments_lexer": "ipython3",
   "version": "3.6.2"
  }
 },
 "nbformat": 4,
 "nbformat_minor": 2
}
