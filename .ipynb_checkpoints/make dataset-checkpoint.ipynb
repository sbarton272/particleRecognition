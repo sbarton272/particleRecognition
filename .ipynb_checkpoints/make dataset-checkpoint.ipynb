{
 "cells": [
  {
   "cell_type": "code",
   "execution_count": 2,
   "metadata": {},
   "outputs": [],
   "source": [
    "import numpy as np\n",
    "from scipy.misc import imread\n",
    "import glob\n",
    "from skimage import util \n",
    "from skimage import io as io\n",
    "import pickle\n",
    "import os\n",
    "import matplotlib.pyplot as plt\n",
    "%matplotlib inline"
   ]
  },
  {
   "cell_type": "code",
   "execution_count": 3,
   "metadata": {},
   "outputs": [
    {
     "name": "stdout",
     "output_type": "stream",
     "text": [
      "[0 1 2 3 4] <class 'numpy.ndarray'>\n",
      "[3 4 5 6 7]\n",
      "<class 'TypeError'> can only concatenate list (not \"int\") to list\n",
      "\n",
      "FOR LOOP\n",
      "0\n",
      "[3]\n",
      "1\n",
      "[3, 4]\n",
      "2\n",
      "[3, 4, 5]\n",
      "3\n",
      "[3, 4, 5, 6]\n",
      "4\n",
      "[3, 4, 5, 6, 7]\n",
      "ADVANCED TOPICS\n",
      "[3, 4, 5, 6, 7]\n",
      "INSIDE 0\n",
      "INSIDE 1\n",
      "INSIDE 2\n",
      "INSIDE 3\n",
      "INSIDE 4\n",
      "[None, None, None, None, None]\n",
      "INSIDE 3\n",
      "[None]\n"
     ]
    }
   ],
   "source": [
    "# DEMO OF WIERD NOTATION\n",
    "lst = np.array(list(range(5)))\n",
    "print(lst, type(lst))\n",
    "\n",
    "# A few different ways to add 3\n",
    "print(lst + 3)  # works with numpy\n",
    "\n",
    "# This doesn't work with normal list\n",
    "try:\n",
    "    print(list(lst) + 3)\n",
    "except TypeError as e:\n",
    "    print(type(e), e)\n",
    "\n",
    "# For loop\n",
    "print()\n",
    "print('FOR LOOP')\n",
    "add_three = []\n",
    "for n in lst:\n",
    "    print(n)\n",
    "    add_three.append(n+3)\n",
    "    print(add_three)\n",
    "\n",
    "\n",
    "# MAGIC\n",
    "print('ADVANCED TOPICS')\n",
    "add_three = [n + 3 for n in lst]\n",
    "print(add_three)\n",
    "\n",
    "add_three = [print('INSIDE', n) for n in lst]\n",
    "print(add_three)\n",
    "\n",
    "add_three = [print('INSIDE', n) for n in lst if n == 3]\n",
    "print(add_three)"
   ]
  },
  {
   "cell_type": "code",
   "execution_count": 4,
   "metadata": {},
   "outputs": [
    {
     "data": {
      "text/plain": [
       "'/Users/cgroschner/Documents/pythonDev/particleRecognition'"
      ]
     },
     "execution_count": 4,
     "metadata": {},
     "output_type": "execute_result"
    }
   ],
   "source": [
    "pwd"
   ]
  },
  {
   "cell_type": "code",
   "execution_count": 5,
   "metadata": {},
   "outputs": [
    {
     "data": {
      "text/plain": [
       "'/Users/cgroschner/Documents/pythonDev/particleRecognition'"
      ]
     },
     "execution_count": 5,
     "metadata": {},
     "output_type": "execute_result"
    }
   ],
   "source": [
    "os.getcwd()"
   ]
  },
  {
   "cell_type": "code",
   "execution_count": 6,
   "metadata": {},
   "outputs": [
    {
     "name": "stdout",
     "output_type": "stream",
     "text": [
      "[[0 1 2 3 4 5 6 7 8 9]]\n",
      "(1, 10)\n",
      "[[0 1 2 3 4 5 6 7 8 9]\n",
      " [0 1 2 3 4 5 6 7 8 9]]\n"
     ]
    }
   ],
   "source": [
    "a = np.reshape(np.array(range(10)),(1,-1))\n",
    "print(a)\n",
    "print(a.shape)\n",
    "b = np.append(a,a,axis=0)\n",
    "print(b)"
   ]
  },
  {
   "cell_type": "code",
   "execution_count": 7,
   "metadata": {},
   "outputs": [],
   "source": [
    "try:\n",
    "    path = \"/Users/cgroschner/Box Sync/Research/Training Data/SegmentedImages_DotNoFringe\"    \n",
    "    path2 = \"/Users/cgroschner/Box Sync/Research/Training Data/SegmentedImage_Nothing\"\n",
    "\n",
    "    name = \".\"\n",
    "    length1 = len([name for name in os.listdir(path) if os.path.isfile(os.path.join(path, name))])\n",
    "    length2 = len([name for name in os.listdir(path2) if os.path.isfile(os.path.join(path2, name))])\n",
    "except:\n",
    "    path = \"/Users/kategroschner/Box Sync/Research/Training Data/SegmentedImages_DotNoFringe\"    \n",
    "    path2 = \"/Users/kategroschner/Box Sync/Research/Training Data/SegmentedImage_Nothing\"\n",
    "\n",
    "    name = \".\"\n",
    "    length1 = len([name for name in os.listdir(path) if os.path.isfile(os.path.join(path, name))])\n",
    "    length2 = len([name for name in os.listdir(path2) if os.path.isfile(os.path.join(path2, name))])\n",
    "\n",
    "path = path + \"/*.png\"    \n",
    "path2 = path2 +\"/*.png\"\n",
    "\n",
    "label = 1 #to indicate contains particle\n",
    "label2 = 0 #indicates contains no particle\n",
    "\n",
    "\n",
    "i = 0\n",
    "for fname in glob.glob(path):\n",
    "    #files = io.imread_collection(fname,True)\n",
    "    im = np.array(imread(fname,flatten=True))\n",
    "    if i == 0:\n",
    "        data = np.reshape(im,(1,-1))\n",
    "        data = np.append(data,np.reshape(np.rot90(im,1),(1,-1)),axis = 0)\n",
    "        data = np.append(data,np.reshape(np.rot90(im,2),(1,-1)),axis = 0)\n",
    "        data = np.append(data,np.reshape(np.rot90(im,3),(1,-1)),axis = 0)\n",
    "        data = np.append(data,np.reshape(np.flipud(im),(1,-1)),axis = 0)\n",
    "        data = np.append(data,np.reshape(np.fliplr(im),(1,-1)),axis = 0)\n",
    "        \n",
    "    else:\n",
    "        data = np.append(data,np.reshape(im,(1,-1)),axis = 0)\n",
    "        data = np.append(data,np.reshape(np.rot90(im,1),(1,-1)),axis = 0)\n",
    "        data = np.append(data,np.reshape(np.rot90(im,2),(1,-1)),axis = 0)\n",
    "        data = np.append(data,np.reshape(np.rot90(im,3),(1,-1)),axis = 0)\n",
    "        data = np.append(data,np.reshape(np.flipud(im),(1,-1)),axis = 0)\n",
    "        data = np.append(data,np.reshape(np.fliplr(im),(1,-1)),axis = 0)\n",
    "    i = i+1   "
   ]
  },
  {
   "cell_type": "code",
   "execution_count": 8,
   "metadata": {},
   "outputs": [
    {
     "name": "stdout",
     "output_type": "stream",
     "text": [
      "(210, 16384)\n"
     ]
    },
    {
     "data": {
      "image/png": "[encoded data removed]",
      "text/plain": [
       "<matplotlib.figure.Figure at 0x10fedfda0>"
      ]
     },
     "metadata": {},
     "output_type": "display_data"
    }
   ],
   "source": [
    "plt.imshow(data[0,:].reshape((128,128)))\n",
    "print(data.shape)"
   ]
  },
  {
   "cell_type": "code",
   "execution_count": 9,
   "metadata": {},
   "outputs": [],
   "source": [
    "j = 0\n",
    "for fname in glob.glob(path2):\n",
    "    #files = io.imread_collection(fname,True)\n",
    "    im = np.array(imread(fname,flatten=True))\n",
    "    if j == 0:\n",
    "        data2 = np.reshape(im,(1,-1))     \n",
    "    else:\n",
    "        data2 = np.append(data2,np.reshape(im,(1,-1)),axis = 0)\n",
    "    j = j+1  "
   ]
  },
  {
   "cell_type": "code",
   "execution_count": 10,
   "metadata": {},
   "outputs": [
    {
     "name": "stdout",
     "output_type": "stream",
     "text": [
      "(210, 16384)\n"
     ]
    }
   ],
   "source": [
    "data3 = data2[0:210,:]\n",
    "print(data3.shape)"
   ]
  },
  {
   "cell_type": "code",
   "execution_count": 11,
   "metadata": {},
   "outputs": [],
   "source": [
    "total_data = np.concatenate((data,data2[0:210,:]),axis = 0)"
   ]
  },
  {
   "cell_type": "code",
   "execution_count": 42,
   "metadata": {},
   "outputs": [
    {
     "name": "stdout",
     "output_type": "stream",
     "text": [
      "(210,)\n",
      "(210,)\n"
     ]
    }
   ],
   "source": [
    "#data = np.empty([16384,length1])\n",
    "target = np.ones([(length1)*6,])\n",
    "#data2 = np.empty([16384,length2])\n",
    "target2 = np.zeros([210,])\n",
    "print(target2.shape)\n",
    "print(target.shape)"
   ]
  },
  {
   "cell_type": "code",
   "execution_count": 13,
   "metadata": {},
   "outputs": [
    {
     "name": "stdout",
     "output_type": "stream",
     "text": [
      "(210, 16384)\n",
      "35\n"
     ]
    }
   ],
   "source": [
    "print(data.shape)\n",
    "print(length1)\n"
   ]
  },
  {
   "cell_type": "code",
   "execution_count": 14,
   "metadata": {},
   "outputs": [
    {
     "data": {
      "text/plain": [
       "(420, 16384)"
      ]
     },
     "execution_count": 14,
     "metadata": {},
     "output_type": "execute_result"
    }
   ],
   "source": [
    "total_data.shape"
   ]
  },
  {
   "cell_type": "code",
   "execution_count": 43,
   "metadata": {},
   "outputs": [],
   "source": [
    "total_targets = np.concatenate((target,target2),axis =0)"
   ]
  },
  {
   "cell_type": "code",
   "execution_count": 44,
   "metadata": {},
   "outputs": [
    {
     "data": {
      "text/plain": [
       "(420,)"
      ]
     },
     "execution_count": 44,
     "metadata": {},
     "output_type": "execute_result"
    }
   ],
   "source": [
    "total_targets.shape"
   ]
  },
  {
   "cell_type": "code",
   "execution_count": 17,
   "metadata": {},
   "outputs": [],
   "source": [
    "np.save('ttldata_nnptl_tf',total_data)\n",
    "np.save('ttltargets_nnptl_tf',total_targets)"
   ]
  },
  {
   "cell_type": "code",
   "execution_count": 18,
   "metadata": {},
   "outputs": [],
   "source": [
    "from sklearn.model_selection import train_test_split\n",
    "from sklearn import svm"
   ]
  },
  {
   "cell_type": "code",
   "execution_count": 45,
   "metadata": {},
   "outputs": [],
   "source": [
    "data_train, data_test, target_train, target_test = train_test_split(total_data, total_targets, test_size=0.25, random_state=42)"
   ]
  },
  {
   "cell_type": "code",
   "execution_count": 51,
   "metadata": {},
   "outputs": [
    {
     "data": {
      "text/plain": [
       "SVC(C=1.0, cache_size=200, class_weight=None, coef0=0.0,\n",
       "  decision_function_shape='ovr', degree=3, gamma='auto', kernel='rbf',\n",
       "  max_iter=-1, probability=True, random_state=None, shrinking=True,\n",
       "  tol=0.001, verbose=False)"
      ]
     },
     "execution_count": 51,
     "metadata": {},
     "output_type": "execute_result"
    }
   ],
   "source": [
    "clf = svm.SVC(probability=True)\n",
    "clf.fit(data_train, target_train)  "
   ]
  },
  {
   "cell_type": "code",
   "execution_count": 52,
   "metadata": {},
   "outputs": [],
   "source": [
    "prediticions = clf.predict(data_test)"
   ]
  },
  {
   "cell_type": "code",
   "execution_count": 22,
   "metadata": {},
   "outputs": [],
   "source": [
    "from sklearn.metrics import confusion_matrix"
   ]
  },
  {
   "cell_type": "code",
   "execution_count": 53,
   "metadata": {},
   "outputs": [
    {
     "data": {
      "text/plain": [
       "array([[51,  0],\n",
       "       [54,  0]])"
      ]
     },
     "execution_count": 53,
     "metadata": {},
     "output_type": "execute_result"
    }
   ],
   "source": [
    "confusion_matrix(target_test,prediticions)"
   ]
  },
  {
   "cell_type": "code",
   "execution_count": 54,
   "metadata": {},
   "outputs": [
    {
     "data": {
      "text/plain": [
       "0.48571428571428571"
      ]
     },
     "execution_count": 54,
     "metadata": {},
     "output_type": "execute_result"
    }
   ],
   "source": [
    "clf.score(data_test, target_test)"
   ]
  },
  {
   "cell_type": "code",
   "execution_count": 55,
   "metadata": {},
   "outputs": [
    {
     "data": {
      "text/plain": [
       "[<matplotlib.lines.Line2D at 0x1207e4978>]"
      ]
     },
     "execution_count": 55,
     "metadata": {},
     "output_type": "execute_result"
    },
    {
     "data": {
      "image/png": "[encoded data removed]",
      "text/plain": [
       "<matplotlib.figure.Figure at 0x11e039128>"
      ]
     },
     "metadata": {},
     "output_type": "display_data"
    }
   ],
   "source": [
    "from sklearn.metrics import roc_curve\n",
    "probs = clf.predict_proba(data_test)\n",
    "fpr, tpr, thresholds = roc_curve(target_test, probs[:, 1])\n",
    "plt.plot(fpr, tpr)"
   ]
  },
  {
   "cell_type": "code",
   "execution_count": 32,
   "metadata": {},
   "outputs": [
    {
     "data": {
      "text/plain": [
       "<matplotlib.image.AxesImage at 0x119d9e668>"
      ]
     },
     "execution_count": 32,
     "metadata": {},
     "output_type": "execute_result"
    },
    {
     "data": {
      "image/png": "[encoded data removed]",
      "text/plain": [
       "<matplotlib.figure.Figure at 0x119b78128>"
      ]
     },
     "metadata": {},
     "output_type": "display_data"
    }
   ],
   "source": [
    "plt.imshow(data_test[0,:].reshape((128,128)))"
   ]
  },
  {
   "cell_type": "code",
   "execution_count": 33,
   "metadata": {},
   "outputs": [
    {
     "name": "stdout",
     "output_type": "stream",
     "text": [
      "1.0\n"
     ]
    }
   ],
   "source": [
    "print(target_test[0,0])"
   ]
  },
  {
   "cell_type": "code",
   "execution_count": 62,
   "metadata": {},
   "outputs": [
    {
     "data": {
      "text/plain": [
       "array([ 0.])"
      ]
     },
     "execution_count": 62,
     "metadata": {},
     "output_type": "execute_result"
    }
   ],
   "source": [
    "clf.predict(data_test[50].reshape(1,-1))"
   ]
  },
  {
   "cell_type": "code",
   "execution_count": 57,
   "metadata": {},
   "outputs": [
    {
     "data": {
      "text/plain": [
       "(16384,)"
      ]
     },
     "execution_count": 57,
     "metadata": {},
     "output_type": "execute_result"
    }
   ],
   "source": [
    "data_test[0].shape"
   ]
  },
  {
   "cell_type": "code",
   "execution_count": 38,
   "metadata": {},
   "outputs": [
    {
     "data": {
      "text/plain": [
       "(105, 16384)"
      ]
     },
     "execution_count": 38,
     "metadata": {},
     "output_type": "execute_result"
    }
   ],
   "source": [
    "data_test.shape"
   ]
  },
  {
   "cell_type": "code",
   "execution_count": 39,
   "metadata": {},
   "outputs": [
    {
     "data": {
      "text/plain": [
       "(16384,)"
      ]
     },
     "execution_count": 39,
     "metadata": {},
     "output_type": "execute_result"
    }
   ],
   "source": [
    "data_test[0,:].shape"
   ]
  },
  {
   "cell_type": "code",
   "execution_count": 40,
   "metadata": {},
   "outputs": [
    {
     "data": {
      "text/plain": [
       "(105, 1)"
      ]
     },
     "execution_count": 40,
     "metadata": {},
     "output_type": "execute_result"
    }
   ],
   "source": [
    "target_test.shape"
   ]
  },
  {
   "cell_type": "code",
   "execution_count": 80,
   "metadata": {},
   "outputs": [],
   "source": [
    "truenum =target_test[target_test == 1]"
   ]
  },
  {
   "cell_type": "code",
   "execution_count": 82,
   "metadata": {},
   "outputs": [
    {
     "name": "stdout",
     "output_type": "stream",
     "text": [
      "[ 1.  1.  1.  1.  1.  1.  1.  1.  1.  1.  1.  1.  1.  1.  1.  1.  1.  1.\n",
      "  1.  1.  1.  1.  1.  1.  1.  1.  1.  1.  1.  1.  1.  1.  1.  1.  1.  1.\n",
      "  1.  1.  1.  1.  1.  1.  1.  1.  1.  1.  1.  1.  1.  1.  1.  1.  1.  1.]\n"
     ]
    }
   ],
   "source": [
    "print(truenum)"
   ]
  },
  {
   "cell_type": "code",
   "execution_count": 68,
   "metadata": {},
   "outputs": [
    {
     "name": "stdout",
     "output_type": "stream",
     "text": [
      "[ 1.  0.  1.  0.  0.  1.  1.  1.  1.  1.  1.  1.  0.  1.  0.  0.  1.  0.\n",
      "  1.  0.  1.  0.  0.  0.  1.  0.  1.  0.  0.  1.  0.  1.  1.  1.  0.  1.\n",
      "  0.  1.  1.  0.  1.  1.  0.  1.  1.  0.  1.  0.  0.  1.  1.  0.  1.  1.\n",
      "  0.  0.  0.  0.  1.  1.  0.  1.  1.  0.  1.  0.  0.  1.  1.  0.  1.  0.\n",
      "  0.  0.  1.  1.  0.  1.  0.  0.  1.  0.  1.  1.  1.  1.  1.  1.  0.  0.\n",
      "  0.  1.  0.  1.  0.  1.  1.  0.  0.  0.  0.  1.  0.  0.  0.]\n"
     ]
    }
   ],
   "source": [
    "print(target_test)"
   ]
  },
  {
   "cell_type": "code",
   "execution_count": 79,
   "metadata": {},
   "outputs": [
    {
     "data": {
      "text/plain": [
       "array([ True, False,  True, False, False,  True,  True,  True,  True,\n",
       "        True,  True,  True, False,  True, False, False,  True, False,\n",
       "        True, False,  True, False, False, False,  True, False,  True,\n",
       "       False, False,  True, False,  True,  True,  True, False,  True,\n",
       "       False,  True,  True, False,  True,  True, False,  True,  True,\n",
       "       False,  True, False, False,  True,  True, False,  True,  True,\n",
       "       False, False, False, False,  True,  True, False,  True,  True,\n",
       "       False,  True, False, False,  True,  True, False,  True, False,\n",
       "       False, False,  True,  True, False,  True, False, False,  True,\n",
       "       False,  True,  True,  True,  True,  True,  True, False, False,\n",
       "       False,  True, False,  True, False,  True,  True, False, False,\n",
       "       False, False,  True, False, False, False], dtype=bool)"
      ]
     },
     "execution_count": 79,
     "metadata": {},
     "output_type": "execute_result"
    }
   ],
   "source": [
    "target_test == 1"
   ]
  },
  {
   "cell_type": "code",
   "execution_count": 83,
   "metadata": {},
   "outputs": [],
   "source": [
    "from sklearn.linear_model import SGDClassifier"
   ]
  },
  {
   "cell_type": "code",
   "execution_count": 84,
   "metadata": {},
   "outputs": [
    {
     "name": "stderr",
     "output_type": "stream",
     "text": [
      "/Users/cgroschner/Documents/pythonDev/particleRecognition/venv/lib/python3.6/site-packages/sklearn/linear_model/stochastic_gradient.py:84: FutureWarning: max_iter and tol parameters have been added in <class 'sklearn.linear_model.stochastic_gradient.SGDClassifier'> in 0.19. If both are left unset, they default to max_iter=5 and tol=None. If tol is not None, max_iter defaults to max_iter=1000. From 0.21, default max_iter will be 1000, and default tol will be 1e-3.\n",
      "  \"and default tol will be 1e-3.\" % type(self), FutureWarning)\n"
     ]
    },
    {
     "data": {
      "text/plain": [
       "SGDClassifier(alpha=0.0001, average=False, class_weight=None, epsilon=0.1,\n",
       "       eta0=0.0, fit_intercept=True, l1_ratio=0.15,\n",
       "       learning_rate='optimal', loss='hinge', max_iter=5, n_iter=None,\n",
       "       n_jobs=1, penalty='l2', power_t=0.5, random_state=42, shuffle=True,\n",
       "       tol=None, verbose=0, warm_start=False)"
      ]
     },
     "execution_count": 84,
     "metadata": {},
     "output_type": "execute_result"
    }
   ],
   "source": [
    "sgd_clf = SGDClassifier(random_state=42)\n",
    "sgd_clf.fit(data_train,target_train)"
   ]
  },
  {
   "cell_type": "code",
   "execution_count": 85,
   "metadata": {},
   "outputs": [],
   "source": [
    "from sklearn.model_selection import cross_val_score"
   ]
  },
  {
   "cell_type": "code",
   "execution_count": 86,
   "metadata": {},
   "outputs": [
    {
     "data": {
      "text/plain": [
       "array([ 0.93333333,  0.78095238,  0.93333333])"
      ]
     },
     "execution_count": 86,
     "metadata": {},
     "output_type": "execute_result"
    }
   ],
   "source": [
    "cross_val_score(sgd_clf,data_train,target_train,cv=3,scoring=\"accuracy\")"
   ]
  },
  {
   "cell_type": "code",
   "execution_count": 87,
   "metadata": {},
   "outputs": [],
   "source": [
    "from sklearn.model_selection import cross_val_predict"
   ]
  },
  {
   "cell_type": "code",
   "execution_count": 88,
   "metadata": {},
   "outputs": [
    {
     "data": {
      "text/plain": [
       "array([[152,   7],\n",
       "       [ 30, 126]])"
      ]
     },
     "execution_count": 88,
     "metadata": {},
     "output_type": "execute_result"
    }
   ],
   "source": [
    "target_train_pred = cross_val_predict(sgd_clf,data_train,target_train,cv=3)\n",
    "confusion_matrix(target_train,target_train_pred)"
   ]
  },
  {
   "cell_type": "code",
   "execution_count": 89,
   "metadata": {},
   "outputs": [],
   "source": [
    "target_scores = cross_val_predict(sgd_clf,data_train,target_train,cv=3,method = \"decision_function\")"
   ]
  },
  {
   "cell_type": "code",
   "execution_count": 91,
   "metadata": {},
   "outputs": [],
   "source": [
    "from sklearn.metrics import precision_recall_curve\n",
    "if target_scores.ndim ==2:\n",
    "    target_scores=target_scores[:,1]\n",
    "    \n",
    "precisions, recalls, thresholds = precision_recall_curve(target_train, target_scores)"
   ]
  },
  {
   "cell_type": "code",
   "execution_count": 100,
   "metadata": {},
   "outputs": [
    {
     "data": {
      "image/png": "[encoded data removed]",
      "text/plain": [
       "<matplotlib.figure.Figure at 0x120a25c88>"
      ]
     },
     "metadata": {},
     "output_type": "display_data"
    }
   ],
   "source": [
    "\n",
    "def plot_precision_recall_vs_threshold(precisions, recalls, thresholds):\n",
    "    plt.plot(thresholds, precisions[:-1], \"b--\", label=\"Precision\", linewidth=2)\n",
    "    plt.plot(thresholds, recalls[:-1], \"g-\", label=\"Recall\", linewidth=2)\n",
    "    plt.xlabel(\"Threshold\", fontsize=16)\n",
    "    plt.legend(loc=\"upper left\", fontsize=16)\n",
    "    plt.ylim([0, 1])\n",
    "\n",
    "plt.figure(figsize=(8, 4))\n",
    "plot_precision_recall_vs_threshold(precisions, recalls, thresholds)\n",
    "plt.xlim([-2e9, 2e9])\n",
    "plt.show()"
   ]
  },
  {
   "cell_type": "code",
   "execution_count": 94,
   "metadata": {},
   "outputs": [
    {
     "data": {
      "text/plain": [
       "[<matplotlib.lines.Line2D at 0x113801a58>]"
      ]
     },
     "execution_count": 94,
     "metadata": {},
     "output_type": "execute_result"
    },
    {
     "data": {
      "image/png": "[encoded data removed]",
      "text/plain": [
       "<matplotlib.figure.Figure at 0x10c2a26d8>"
      ]
     },
     "metadata": {},
     "output_type": "display_data"
    }
   ],
   "source": [
    "sgd_fpr, sgd_tpr, sgd_thresholds = roc_curve(target_train, target_scores)\n",
    "plt.plot(sgd_fpr, sgd_tpr)"
   ]
  },
  {
   "cell_type": "code",
   "execution_count": 98,
   "metadata": {},
   "outputs": [
    {
     "data": {
      "text/plain": [
       "246"
      ]
     },
     "execution_count": 98,
     "metadata": {},
     "output_type": "execute_result"
    }
   ],
   "source": [
    "len(thresholds)"
   ]
  },
  {
   "cell_type": "code",
   "execution_count": 99,
   "metadata": {},
   "outputs": [
    {
     "name": "stdout",
     "output_type": "stream",
     "text": [
      "[ -1.02744841e+09  -1.02345075e+09  -1.01549308e+09  -1.00156402e+09\n",
      "  -9.99306082e+08  -9.98409987e+08  -9.76694929e+08  -9.61018311e+08\n",
      "  -9.43742803e+08  -9.37592903e+08  -9.30361620e+08  -9.18341225e+08\n",
      "  -9.12287999e+08  -9.07255765e+08  -9.02588184e+08  -9.01709599e+08\n",
      "  -8.89364851e+08  -8.75765920e+08  -8.56902100e+08  -8.53229089e+08\n",
      "  -8.53213657e+08  -8.45668853e+08  -8.45604036e+08  -8.40131710e+08\n",
      "  -8.38702227e+08  -8.30538342e+08  -8.22625124e+08  -8.20209362e+08\n",
      "  -8.20065302e+08  -8.14374545e+08  -8.03486190e+08  -8.00360958e+08\n",
      "  -7.81764501e+08  -7.80306409e+08  -7.75301280e+08  -7.51936551e+08\n",
      "  -7.42390966e+08  -7.35303086e+08  -7.34199897e+08  -7.26298581e+08\n",
      "  -7.11626251e+08  -7.01420551e+08  -6.99804379e+08  -6.96645590e+08\n",
      "  -6.28179699e+08  -6.20500698e+08  -5.93411607e+08  -5.92035184e+08\n",
      "  -5.86319538e+08  -5.80860734e+08  -5.80278235e+08  -5.73859670e+08\n",
      "  -5.59911005e+08  -5.54282025e+08  -5.51563262e+08  -5.47250097e+08\n",
      "  -5.37274204e+08  -5.34084614e+08  -5.06490639e+08  -5.02794172e+08\n",
      "  -4.98558235e+08  -4.85863774e+08  -4.46664838e+08  -4.38249548e+08\n",
      "  -4.31695380e+08  -4.11353388e+08  -4.07564740e+08  -4.07379982e+08\n",
      "  -3.75962813e+08  -3.58496590e+08  -3.50966741e+08  -3.42883608e+08\n",
      "  -3.34045619e+08  -3.31034355e+08  -3.27601758e+08  -3.27503728e+08\n",
      "  -3.20317913e+08  -3.04974960e+08  -3.02308152e+08  -2.87275267e+08\n",
      "  -2.83409570e+08  -2.74051197e+08  -2.67940012e+08  -2.66390956e+08\n",
      "  -2.65134848e+08  -2.52756893e+08  -2.26891071e+08  -2.21645819e+08\n",
      "  -2.14598537e+08  -2.10623516e+08  -1.71794467e+08  -1.47337825e+08\n",
      "  -1.43896976e+08  -1.43166732e+08  -1.23345458e+08  -1.20158072e+08\n",
      "  -1.03149624e+08  -9.64206021e+07  -8.28145796e+07  -7.63045748e+07\n",
      "  -6.76021976e+07  -4.82880496e+07  -4.78801771e+07  -2.77041626e+07\n",
      "  -2.64763686e+07  -1.81009434e+07  -1.72775009e+07  -8.05957685e+06\n",
      "  -3.96475806e+06  -3.71367153e+06  -3.62503136e+06  -1.62381795e+06\n",
      "  -1.47785225e+06   1.14079372e+06   9.25668474e+06   9.85194096e+06\n",
      "   1.76456693e+07   2.95721429e+07   3.68068134e+07   4.35097103e+07\n",
      "   4.78235027e+07   6.55353716e+07   6.73050321e+07   6.80118824e+07\n",
      "   7.22859182e+07   7.26839172e+07   7.39819065e+07   7.98511503e+07\n",
      "   8.68564160e+07   8.73762943e+07   9.43605302e+07   1.08498156e+08\n",
      "   1.08710535e+08   1.09711479e+08   1.35220706e+08   1.38710581e+08\n",
      "   1.42091257e+08   1.52876565e+08   1.62159188e+08   1.63006926e+08\n",
      "   1.64250893e+08   1.68284939e+08   1.70617023e+08   1.72534440e+08\n",
      "   1.75625376e+08   1.78602116e+08   1.79864083e+08   1.80474435e+08\n",
      "   1.83596914e+08   1.92962526e+08   1.99676638e+08   2.01632302e+08\n",
      "   2.05818349e+08   2.19735508e+08   2.27717812e+08   2.33770735e+08\n",
      "   2.36290039e+08   2.37897475e+08   2.40892238e+08   2.54290999e+08\n",
      "   2.57283309e+08   2.59988702e+08   2.64404381e+08   2.68146270e+08\n",
      "   2.73418842e+08   2.80212314e+08   2.81142976e+08   2.89170833e+08\n",
      "   2.93704681e+08   2.94875618e+08   3.08162382e+08   3.12501630e+08\n",
      "   3.17560825e+08   3.29355787e+08   3.29989791e+08   3.36394508e+08\n",
      "   3.36936369e+08   3.43236018e+08   3.49620945e+08   3.54010067e+08\n",
      "   3.63626140e+08   3.72256821e+08   3.72799007e+08   3.73009107e+08\n",
      "   3.75534620e+08   3.97852663e+08   4.21763875e+08   4.22599986e+08\n",
      "   4.26695889e+08   4.45398902e+08   4.49345515e+08   4.53104357e+08\n",
      "   4.60983078e+08   4.71837785e+08   4.82533429e+08   4.85315631e+08\n",
      "   4.91681855e+08   5.05510467e+08   5.13545333e+08   5.29534352e+08\n",
      "   5.44344967e+08   5.53591302e+08   5.53886958e+08   5.54703788e+08\n",
      "   5.60496870e+08   5.62176418e+08   5.63874903e+08   5.71245279e+08\n",
      "   5.72554762e+08   5.80644572e+08   5.80785250e+08   5.88493963e+08\n",
      "   5.89344505e+08   5.90996494e+08   6.02598486e+08   6.08677531e+08\n",
      "   6.27623221e+08   6.32775377e+08   6.35728912e+08   6.51931126e+08\n",
      "   6.52128105e+08   6.59244490e+08   6.59400457e+08   6.99593934e+08\n",
      "   7.04151811e+08   7.05247402e+08   7.07313997e+08   7.10728897e+08\n",
      "   7.31527511e+08   7.61076779e+08   7.65563919e+08   7.65975733e+08\n",
      "   7.69890443e+08   7.87436306e+08   7.87918561e+08   7.98000864e+08\n",
      "   7.99274783e+08   8.24377822e+08   8.39304573e+08   8.60650386e+08\n",
      "   8.70914952e+08   8.79803278e+08   8.88359481e+08   9.76651299e+08\n",
      "   1.04159378e+09   1.33609149e+09]\n"
     ]
    }
   ],
   "source": [
    "print(thresholds)"
   ]
  },
  {
   "cell_type": "code",
   "execution_count": 101,
   "metadata": {},
   "outputs": [],
   "source": [
    "from sklearn.ensemble import RandomForestClassifier"
   ]
  },
  {
   "cell_type": "code",
   "execution_count": 106,
   "metadata": {},
   "outputs": [],
   "source": [
    "forest_clf = RandomForestClassifier(random_state=42)\n",
    "target_probas_forest = cross_val_predict(forest_clf,data_train,target_train,cv=3,method=\"predict_proba\")"
   ]
  },
  {
   "cell_type": "code",
   "execution_count": 103,
   "metadata": {},
   "outputs": [
    {
     "data": {
      "text/plain": [
       "[<matplotlib.lines.Line2D at 0x121f7e588>]"
      ]
     },
     "execution_count": 103,
     "metadata": {},
     "output_type": "execute_result"
    },
    {
     "data": {
      "image/png": "[encoded data removed]",
      "text/plain": [
       "<matplotlib.figure.Figure at 0x121f59a90>"
      ]
     },
     "metadata": {},
     "output_type": "display_data"
    }
   ],
   "source": [
    "target_scores_forest = target_probas_forest[:,1]\n",
    "fpr_forest,tpr_forest,thresholds_forest = roc_curve(target_train,target_scores_forest)\n",
    "\n",
    "plt.plot(fpr_forest,tpr_forest)"
   ]
  },
  {
   "cell_type": "code",
   "execution_count": 108,
   "metadata": {},
   "outputs": [
    {
     "data": {
      "text/plain": [
       "array([[139,  20],\n",
       "       [ 34, 122]])"
      ]
     },
     "execution_count": 108,
     "metadata": {},
     "output_type": "execute_result"
    }
   ],
   "source": [
    "target_pred_forest = cross_val_predict(forest_clf,data_train,target_train,cv=3)\n",
    "confusion_matrix(target_train,target_pred_forest)"
   ]
  },
  {
   "cell_type": "code",
   "execution_count": 109,
   "metadata": {},
   "outputs": [
    {
     "data": {
      "text/plain": [
       "array([[159,   0],\n",
       "       [156,   0]])"
      ]
     },
     "execution_count": 109,
     "metadata": {},
     "output_type": "execute_result"
    }
   ],
   "source": [
    "target_pred_svm = cross_val_predict(clf,data_train,target_train,cv=3)\n",
    "confusion_matrix(target_train,target_pred_svm)"
   ]
  },
  {
   "cell_type": "code",
   "execution_count": 110,
   "metadata": {},
   "outputs": [],
   "source": [
    "from sklearn.metrics import roc_auc_score"
   ]
  },
  {
   "cell_type": "code",
   "execution_count": 111,
   "metadata": {},
   "outputs": [
    {
     "data": {
      "text/plain": [
       "0.96117561683599417"
      ]
     },
     "execution_count": 111,
     "metadata": {},
     "output_type": "execute_result"
    }
   ],
   "source": [
    "roc_auc_score(target_train,target_scores)"
   ]
  },
  {
   "cell_type": "code",
   "execution_count": 112,
   "metadata": {},
   "outputs": [
    {
     "data": {
      "text/plain": [
       "0.92212949524270282"
      ]
     },
     "execution_count": 112,
     "metadata": {},
     "output_type": "execute_result"
    }
   ],
   "source": [
    "roc_auc_score(target_train,target_scores_forest)"
   ]
  },
  {
   "cell_type": "code",
   "execution_count": 113,
   "metadata": {},
   "outputs": [],
   "source": [
    "target_scores_svm = cross_val_predict(clf,data_train,target_train,cv=3,method = \"decision_function\")"
   ]
  },
  {
   "cell_type": "code",
   "execution_count": 115,
   "metadata": {},
   "outputs": [
    {
     "data": {
      "text/plain": [
       "0.5"
      ]
     },
     "execution_count": 115,
     "metadata": {},
     "output_type": "execute_result"
    }
   ],
   "source": [
    "roc_auc_score(target_train,target_scores_svm[:,1])"
   ]
  },
  {
   "cell_type": "code",
   "execution_count": null,
   "metadata": {},
   "outputs": [],
   "source": []
  }
 ],
 "metadata": {
  "kernelspec": {
   "display_name": "Python 3",
   "language": "python",
   "name": "python3"
  },
  "language_info": {
   "codemirror_mode": {
    "name": "ipython",
    "version": 3
   },
   "file_extension": ".py",
   "mimetype": "text/x-python",
   "name": "python",
   "nbconvert_exporter": "python",
   "pygments_lexer": "ipython3",
   "version": "3.6.2"
  }
 },
 "nbformat": 4,
 "nbformat_minor": 2
}
