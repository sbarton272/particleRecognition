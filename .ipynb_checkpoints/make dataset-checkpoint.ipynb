{
 "cells": [
  {
   "cell_type": "code",
   "execution_count": 33,
   "metadata": {},
   "outputs": [],
   "source": [
    "import numpy as np\n",
    "from scipy.misc import imread\n",
    "import glob\n",
    "from skimage import util \n",
    "from skimage import io as io\n",
    "import pickle\n",
    "import os\n",
    "import matplotlib.pyplot as plt\n",
    "%matplotlib inline"
   ]
  },
  {
   "cell_type": "code",
   "execution_count": 3,
   "metadata": {},
   "outputs": [
    {
     "name": "stdout",
     "output_type": "stream",
     "text": [
      "[0 1 2 3 4] <class 'numpy.ndarray'>\n",
      "[3 4 5 6 7]\n",
      "<class 'TypeError'> can only concatenate list (not \"int\") to list\n",
      "\n",
      "FOR LOOP\n",
      "0\n",
      "[3]\n",
      "1\n",
      "[3, 4]\n",
      "2\n",
      "[3, 4, 5]\n",
      "3\n",
      "[3, 4, 5, 6]\n",
      "4\n",
      "[3, 4, 5, 6, 7]\n",
      "ADVANCED TOPICS\n",
      "[3, 4, 5, 6, 7]\n",
      "INSIDE 0\n",
      "INSIDE 1\n",
      "INSIDE 2\n",
      "INSIDE 3\n",
      "INSIDE 4\n",
      "[None, None, None, None, None]\n",
      "INSIDE 3\n",
      "[None]\n"
     ]
    }
   ],
   "source": [
    "# DEMO OF WIERD NOTATION\n",
    "lst = np.array(list(range(5)))\n",
    "print(lst, type(lst))\n",
    "\n",
    "# A few different ways to add 3\n",
    "print(lst + 3)  # works with numpy\n",
    "\n",
    "# This doesn't work with normal list\n",
    "try:\n",
    "    print(list(lst) + 3)\n",
    "except TypeError as e:\n",
    "    print(type(e), e)\n",
    "\n",
    "# For loop\n",
    "print()\n",
    "print('FOR LOOP')\n",
    "add_three = []\n",
    "for n in lst:\n",
    "    print(n)\n",
    "    add_three.append(n+3)\n",
    "    print(add_three)\n",
    "\n",
    "\n",
    "# MAGIC\n",
    "print('ADVANCED TOPICS')\n",
    "add_three = [n + 3 for n in lst]\n",
    "print(add_three)\n",
    "\n",
    "add_three = [print('INSIDE', n) for n in lst]\n",
    "print(add_three)\n",
    "\n",
    "add_three = [print('INSIDE', n) for n in lst if n == 3]\n",
    "print(add_three)"
   ]
  },
  {
   "cell_type": "code",
   "execution_count": 4,
   "metadata": {},
   "outputs": [
    {
     "data": {
      "text/plain": [
       "'/Users/kategroschner/Documents/particleRecognition'"
      ]
     },
     "execution_count": 4,
     "metadata": {},
     "output_type": "execute_result"
    }
   ],
   "source": [
    "pwd"
   ]
  },
  {
   "cell_type": "code",
   "execution_count": 5,
   "metadata": {},
   "outputs": [
    {
     "data": {
      "text/plain": [
       "'/Users/kategroschner/Documents/particleRecognition'"
      ]
     },
     "execution_count": 5,
     "metadata": {},
     "output_type": "execute_result"
    }
   ],
   "source": [
    "os.getcwd()"
   ]
  },
  {
   "cell_type": "code",
   "execution_count": 70,
   "metadata": {},
   "outputs": [
    {
     "name": "stdout",
     "output_type": "stream",
     "text": [
      "[[0 1 2 3 4 5 6 7 8 9]]\n",
      "(1, 10)\n",
      "[[0 1 2 3 4 5 6 7 8 9]\n",
      " [0 1 2 3 4 5 6 7 8 9]]\n"
     ]
    }
   ],
   "source": [
    "a = np.reshape(np.array(range(10)),(1,-1))\n",
    "print(a)\n",
    "print(a.shape)\n",
    "b = np.append(a,a,axis=0)\n",
    "print(b)"
   ]
  },
  {
   "cell_type": "code",
   "execution_count": 78,
   "metadata": {},
   "outputs": [],
   "source": [
    "try:\n",
    "    path = \"/Users/cgroschner/Box Sync/Research/Training Data/SegmentedImages_DotNoFringe\"    \n",
    "    path2 = \"/Users/cgroschner/Box Sync/Research/Training Data/SegmentedImage_Nothing\"\n",
    "\n",
    "    name = \".\"\n",
    "    length1 = len([name for name in os.listdir(path) if os.path.isfile(os.path.join(path, name))])\n",
    "    length2 = len([name for name in os.listdir(path2) if os.path.isfile(os.path.join(path2, name))])\n",
    "except:\n",
    "    path = \"/Users/kategroschner/Box Sync/Research/Training Data/SegmentedImages_DotNoFringe\"    \n",
    "    path2 = \"/Users/kategroschner/Box Sync/Research/Training Data/SegmentedImage_Nothing\"\n",
    "\n",
    "    name = \".\"\n",
    "    length1 = len([name for name in os.listdir(path) if os.path.isfile(os.path.join(path, name))])\n",
    "    length2 = len([name for name in os.listdir(path2) if os.path.isfile(os.path.join(path2, name))])\n",
    "\n",
    "path = path + \"/*.png\"    \n",
    "path2 = path2 +\"/*.png\"\n",
    "\n",
    "label = 1 #to indicate contains particle\n",
    "label2 = 0 #indicates contains no particle\n",
    "\n",
    "\n",
    "i = 0\n",
    "for fname in glob.glob(path):\n",
    "    #files = io.imread_collection(fname,True)\n",
    "    im = np.array(imread(fname,flatten=True))\n",
    "    if i == 0:\n",
    "        data = np.reshape(im,(1,-1))\n",
    "        data = np.append(data,np.reshape(np.rot90(im,1),(1,-1)),axis = 0)\n",
    "        data = np.append(data,np.reshape(np.rot90(im,2),(1,-1)),axis = 0)\n",
    "        data = np.append(data,np.reshape(np.rot90(im,3),(1,-1)),axis = 0)\n",
    "        data = np.append(data,np.reshape(np.flipud(im),(1,-1)),axis = 0)\n",
    "        data = np.append(data,np.reshape(np.fliplr(im),(1,-1)),axis = 0)\n",
    "        \n",
    "    else:\n",
    "        data = np.append(data,np.reshape(im,(1,-1)),axis = 0)\n",
    "        data = np.append(data,np.reshape(np.rot90(im,1),(1,-1)),axis = 0)\n",
    "        data = np.append(data,np.reshape(np.rot90(im,2),(1,-1)),axis = 0)\n",
    "        data = np.append(data,np.reshape(np.rot90(im,3),(1,-1)),axis = 0)\n",
    "        data = np.append(data,np.reshape(np.flipud(im),(1,-1)),axis = 0)\n",
    "        data = np.append(data,np.reshape(np.fliplr(im),(1,-1)),axis = 0)\n",
    "    i = i+1   "
   ]
  },
  {
   "cell_type": "code",
   "execution_count": 75,
   "metadata": {},
   "outputs": [
    {
     "name": "stdout",
     "output_type": "stream",
     "text": [
      "(210, 16384)\n"
     ]
    },
    {
     "data": {
      "image/png": "[encoded data removed]",
      "text/plain": [
       "<matplotlib.figure.Figure at 0x107ad2cf8>"
      ]
     },
     "metadata": {},
     "output_type": "display_data"
    }
   ],
   "source": [
    "plt.imshow(data[0,:].reshape((128,128)))\n",
    "print(data.shape)"
   ]
  },
  {
   "cell_type": "code",
   "execution_count": 79,
   "metadata": {},
   "outputs": [],
   "source": [
    "j = 0\n",
    "for fname in glob.glob(path2):\n",
    "    #files = io.imread_collection(fname,True)\n",
    "    im = np.array(imread(fname,flatten=True))\n",
    "    if j == 0:\n",
    "        data2 = np.reshape(im,(1,-1))     \n",
    "    else:\n",
    "        data2 = np.append(data2,np.reshape(im,(1,-1)),axis = 0)\n",
    "    j = j+1  "
   ]
  },
  {
   "cell_type": "code",
   "execution_count": 97,
   "metadata": {},
   "outputs": [],
   "source": [
    "total_data = np.concatenate((data,data2),axis = 0)"
   ]
  },
  {
   "cell_type": "code",
   "execution_count": 98,
   "metadata": {},
   "outputs": [
    {
     "name": "stdout",
     "output_type": "stream",
     "text": [
      "(1504, 1)\n",
      "(210, 1)\n"
     ]
    }
   ],
   "source": [
    "#data = np.empty([16384,length1])\n",
    "target = np.ones([(length1-1)*6,1])\n",
    "#data2 = np.empty([16384,length2])\n",
    "target2 = np.zeros([(length2-1),1])\n",
    "print(target2.shape)\n",
    "print(target.shape)\n"
   ]
  },
  {
   "cell_type": "code",
   "execution_count": 90,
   "metadata": {},
   "outputs": [
    {
     "data": {
      "text/plain": [
       "(1714, 16384)"
      ]
     },
     "execution_count": 90,
     "metadata": {},
     "output_type": "execute_result"
    }
   ],
   "source": [
    "total_data.shape"
   ]
  },
  {
   "cell_type": "code",
   "execution_count": 100,
   "metadata": {},
   "outputs": [],
   "source": [
    "total_targets = np.concatenate((target,target2),axis =0)"
   ]
  },
  {
   "cell_type": "code",
   "execution_count": 101,
   "metadata": {},
   "outputs": [
    {
     "data": {
      "text/plain": [
       "(1714, 1)"
      ]
     },
     "execution_count": 101,
     "metadata": {},
     "output_type": "execute_result"
    }
   ],
   "source": [
    "total_targets.shape"
   ]
  },
  {
   "cell_type": "code",
   "execution_count": 102,
   "metadata": {},
   "outputs": [],
   "source": [
    "np.save('ttldata_nnptl_tf',total_data)\n",
    "np.save('ttltargets_nnptl_tf',total_targets)"
   ]
  },
  {
   "cell_type": "code",
   "execution_count": 103,
   "metadata": {},
   "outputs": [],
   "source": [
    "from sklearn.model_selection import train_test_split\n",
    "from sklearn import svm"
   ]
  },
  {
   "cell_type": "code",
   "execution_count": 104,
   "metadata": {},
   "outputs": [],
   "source": [
    "data_train, data_test, target_train, target_test = train_test_split(total_data, total_targets, test_size=0.25, random_state=42)"
   ]
  },
  {
   "cell_type": "code",
   "execution_count": 105,
   "metadata": {},
   "outputs": [
    {
     "data": {
      "text/plain": [
       "SVC(C=1.0, cache_size=200, class_weight=None, coef0=0.0,\n",
       "  decision_function_shape='ovr', degree=3, gamma='auto', kernel='rbf',\n",
       "  max_iter=-1, probability=True, random_state=None, shrinking=True,\n",
       "  tol=0.001, verbose=False)"
      ]
     },
     "execution_count": 105,
     "metadata": {},
     "output_type": "execute_result"
    }
   ],
   "source": [
    "clf = svm.SVC(probability=True)\n",
    "clf.fit(data_train, np.ravel(target_train))  "
   ]
  },
  {
   "cell_type": "code",
   "execution_count": 106,
   "metadata": {},
   "outputs": [],
   "source": [
    "prediticions = clf.predict(data_test)"
   ]
  },
  {
   "cell_type": "code",
   "execution_count": 107,
   "metadata": {},
   "outputs": [],
   "source": [
    "from sklearn.metrics import confusion_matrix"
   ]
  },
  {
   "cell_type": "code",
   "execution_count": 108,
   "metadata": {},
   "outputs": [
    {
     "data": {
      "text/plain": [
       "array([[385,   0],\n",
       "       [ 44,   0]])"
      ]
     },
     "execution_count": 108,
     "metadata": {},
     "output_type": "execute_result"
    }
   ],
   "source": [
    "confusion_matrix(target_test,prediticions)"
   ]
  },
  {
   "cell_type": "code",
   "execution_count": 109,
   "metadata": {},
   "outputs": [
    {
     "data": {
      "text/plain": [
       "0.89743589743589747"
      ]
     },
     "execution_count": 109,
     "metadata": {},
     "output_type": "execute_result"
    }
   ],
   "source": [
    "clf.score(data_test, target_test)"
   ]
  },
  {
   "cell_type": "code",
   "execution_count": 110,
   "metadata": {},
   "outputs": [
    {
     "data": {
      "text/plain": [
       "[<matplotlib.lines.Line2D at 0x107f58518>]"
      ]
     },
     "execution_count": 110,
     "metadata": {},
     "output_type": "execute_result"
    },
    {
     "data": {
      "image/png": "[encoded data removed]",
      "text/plain": [
       "<matplotlib.figure.Figure at 0x107d41208>"
      ]
     },
     "metadata": {},
     "output_type": "display_data"
    }
   ],
   "source": [
    "from sklearn.metrics import roc_curve\n",
    "probs = clf.predict_proba(data_test)\n",
    "fpr, tpr, thresholds = roc_curve(target_test, probs[:, 1])\n",
    "plt.plot(fpr, tpr)"
   ]
  },
  {
   "cell_type": "code",
   "execution_count": null,
   "metadata": {},
   "outputs": [],
   "source": []
  }
 ],
 "metadata": {
  "kernelspec": {
   "display_name": "Python 3",
   "language": "python",
   "name": "python3"
  },
  "language_info": {
   "codemirror_mode": {
    "name": "ipython",
    "version": 3
   },
   "file_extension": ".py",
   "mimetype": "text/x-python",
   "name": "python",
   "nbconvert_exporter": "python",
   "pygments_lexer": "ipython3",
   "version": "3.6.1"
  }
 },
 "nbformat": 4,
 "nbformat_minor": 2
}
