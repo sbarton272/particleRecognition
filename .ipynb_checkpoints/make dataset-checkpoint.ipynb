{
 "cells": [
  {
   "cell_type": "code",
   "execution_count": 2,
   "metadata": {},
   "outputs": [],
   "source": [
    "import numpy as np\n",
    "from scipy.misc import imread\n",
    "import glob\n",
    "from skimage import util \n",
    "from skimage import io as io\n",
    "import pickle\n",
    "import os"
   ]
  },
  {
   "cell_type": "code",
   "execution_count": 3,
   "metadata": {},
   "outputs": [
    {
     "name": "stdout",
     "output_type": "stream",
     "text": [
      "[0 1 2 3 4] <class 'numpy.ndarray'>\n",
      "[3 4 5 6 7]\n",
      "<class 'TypeError'> can only concatenate list (not \"int\") to list\n",
      "\n",
      "FOR LOOP\n",
      "0\n",
      "[3]\n",
      "1\n",
      "[3, 4]\n",
      "2\n",
      "[3, 4, 5]\n",
      "3\n",
      "[3, 4, 5, 6]\n",
      "4\n",
      "[3, 4, 5, 6, 7]\n",
      "ADVANCED TOPICS\n",
      "[3, 4, 5, 6, 7]\n",
      "INSIDE 0\n",
      "INSIDE 1\n",
      "INSIDE 2\n",
      "INSIDE 3\n",
      "INSIDE 4\n",
      "[None, None, None, None, None]\n",
      "INSIDE 3\n",
      "[None]\n"
     ]
    }
   ],
   "source": [
    "# DEMO OF WIERD NOTATION\n",
    "lst = np.array(list(range(5)))\n",
    "print(lst, type(lst))\n",
    "\n",
    "# A few different ways to add 3\n",
    "print(lst + 3)  # works with numpy\n",
    "\n",
    "# This doesn't work with normal list\n",
    "try:\n",
    "    print(list(lst) + 3)\n",
    "except TypeError as e:\n",
    "    print(type(e), e)\n",
    "\n",
    "# For loop\n",
    "print()\n",
    "print('FOR LOOP')\n",
    "add_three = []\n",
    "for n in lst:\n",
    "    print(n)\n",
    "    add_three.append(n+3)\n",
    "    print(add_three)\n",
    "\n",
    "\n",
    "# MAGIC\n",
    "print('ADVANCED TOPICS')\n",
    "add_three = [n + 3 for n in lst]\n",
    "print(add_three)\n",
    "\n",
    "add_three = [print('INSIDE', n) for n in lst]\n",
    "print(add_three)\n",
    "\n",
    "add_three = [print('INSIDE', n) for n in lst if n == 3]\n",
    "print(add_three)"
   ]
  },
  {
   "cell_type": "code",
   "execution_count": 4,
   "metadata": {},
   "outputs": [
    {
     "data": {
      "text/plain": [
       "'/Users/cgroschner/Documents/pythonDev/particleRecognition'"
      ]
     },
     "execution_count": 4,
     "metadata": {},
     "output_type": "execute_result"
    }
   ],
   "source": [
    "pwd"
   ]
  },
  {
   "cell_type": "code",
   "execution_count": 5,
   "metadata": {},
   "outputs": [
    {
     "data": {
      "text/plain": [
       "'/Users/cgroschner/Documents/pythonDev/particleRecognition'"
      ]
     },
     "execution_count": 5,
     "metadata": {},
     "output_type": "execute_result"
    }
   ],
   "source": [
    "os.getcwd()"
   ]
  },
  {
   "cell_type": "code",
   "execution_count": 8,
   "metadata": {},
   "outputs": [
    {
     "name": "stdout",
     "output_type": "stream",
     "text": [
      "35\n"
     ]
    }
   ],
   "source": [
    "try:\n",
    "    path = \"/Users/cgroschner/Box Sync/Research/Training Data/SegmentedImages_DotNoFringe\"    \n",
    "    path2 = \"/Users/cgroschner/Box Sync/Research/Training Data/SegmentedImage_Nothing\"\n",
    "\n",
    "    name = \".\"\n",
    "    length1 = len([name for name in os.listdir(path) if os.path.isfile(os.path.join(path, name))])\n",
    "    length2 = len([name for name in os.listdir(path2) if os.path.isfile(os.path.join(path2, name))])\n",
    "except:\n",
    "    path = \"/Users/kategroschner/Box Sync/Research/Training Data/SegmentedImages_DotNoFringe\"    \n",
    "    path2 = \"/Users/kategroschner/Box Sync/Research/Training Data/SegmentedImage_Nothing\"\n",
    "\n",
    "    name = \".\"\n",
    "    length1 = len([name for name in os.listdir(path) if os.path.isfile(os.path.join(path, name))])\n",
    "    length2 = len([name for name in os.listdir(path2) if os.path.isfile(os.path.join(path2, name))])\n",
    "    \n",
    "\n",
    "path = \"/Users/kategroschner/Box Sync/Research/Training Data/SegmentedImages_DotNoFringe/*.png\"    \n",
    "path2 = \"/Users/kategroschner/Box Sync/Research/Training Data/SegmentedImage_Nothing/*.png\"\n",
    "label = 1 #to indicate contains particle\n",
    "label2 = 0 #indicates contains no particle\n",
    "print(length1)\n",
    "data = np.empty([length1, 16384])\n",
    "target = np.ones([length1, 1])\n",
    "data2 = np.empty([length2, 16384])\n",
    "target2 = np.zeros([length2, 1])\n",
    "\n",
    "\n",
    "for fname in glob.glob(path):\n",
    "    #files = io.imread_collection(fname,True)\n",
    "    im = np.ravel(np.array(imread(fname)))\n",
    "    data = np.append(data,im,axis=0)\n",
    "\n",
    "\n",
    "for fname in glob.glob(path2):\n",
    "    #files = io.imread_collection(fname,True)\n",
    "    im = np.ravel(np.array(imread(fname)))\n",
    "    data2 = np.append(data2,im,axis=0)\n",
    "\n",
    "    \n",
    "\n",
    "    \n",
    "\n",
    "\n",
    "\n",
    "    "
   ]
  },
  {
   "cell_type": "code",
   "execution_count": 9,
   "metadata": {},
   "outputs": [
    {
     "data": {
      "text/plain": [
       "(1504, 16384)"
      ]
     },
     "execution_count": 9,
     "metadata": {},
     "output_type": "execute_result"
    }
   ],
   "source": [
    "data2.shape"
   ]
  },
  {
   "cell_type": "code",
   "execution_count": null,
   "metadata": {},
   "outputs": [],
   "source": [
    "target.shape"
   ]
  },
  {
   "cell_type": "code",
   "execution_count": null,
   "metadata": {},
   "outputs": [],
   "source": [
    "total_data = np.concatenate((data,data2),axis = 0)"
   ]
  },
  {
   "cell_type": "code",
   "execution_count": null,
   "metadata": {},
   "outputs": [],
   "source": [
    "total_data.shape"
   ]
  },
  {
   "cell_type": "code",
   "execution_count": null,
   "metadata": {},
   "outputs": [],
   "source": [
    "total_targets = np.concatenate((target,target2),axis =0)"
   ]
  },
  {
   "cell_type": "code",
   "execution_count": null,
   "metadata": {},
   "outputs": [],
   "source": [
    "total_targets.shape"
   ]
  },
  {
   "cell_type": "code",
   "execution_count": null,
   "metadata": {},
   "outputs": [],
   "source": [
    "from sklearn.model_selection import train_test_split\n",
    "from sklearn import svm"
   ]
  },
  {
   "cell_type": "code",
   "execution_count": null,
   "metadata": {},
   "outputs": [],
   "source": [
    "data_train, data_test, target_train, target_test = train_test_split(total_data, total_targets, test_size=0.25, random_state=42)"
   ]
  },
  {
   "cell_type": "code",
   "execution_count": null,
   "metadata": {},
   "outputs": [],
   "source": [
    "clf = svm.SVC(probability=True)\n",
    "clf.fit(data_train, np.ravel(target_train))  "
   ]
  },
  {
   "cell_type": "code",
   "execution_count": null,
   "metadata": {},
   "outputs": [],
   "source": [
    "prediticions = clf.predict(data_test)"
   ]
  },
  {
   "cell_type": "code",
   "execution_count": null,
   "metadata": {},
   "outputs": [],
   "source": [
    "from sklearn.metrics import confusion_matrix"
   ]
  },
  {
   "cell_type": "code",
   "execution_count": null,
   "metadata": {},
   "outputs": [],
   "source": [
    "confusion_matrix(target_test,prediticions)"
   ]
  },
  {
   "cell_type": "code",
   "execution_count": null,
   "metadata": {},
   "outputs": [],
   "source": [
    "clf.score(data_test, target_test)"
   ]
  },
  {
   "cell_type": "code",
   "execution_count": null,
   "metadata": {},
   "outputs": [],
   "source": [
    "import matplotlib.pyplot as plt\n",
    "%matplotlib inline\n",
    "from sklearn.metrics import roc_curve\n",
    "probs = clf.predict_proba(data_test)\n",
    "fpr, tpr, thresholds = roc_curve(target_test, probs[:, 1])\n",
    "plt.plot(fpr, tpr)"
   ]
  },
  {
   "cell_type": "code",
   "execution_count": null,
   "metadata": {},
   "outputs": [],
   "source": []
  }
 ],
 "metadata": {
  "kernelspec": {
   "display_name": "Python 3",
   "language": "python",
   "name": "python3"
  },
  "language_info": {
   "codemirror_mode": {
    "name": "ipython",
    "version": 3
   },
   "file_extension": ".py",
   "mimetype": "text/x-python",
   "name": "python",
   "nbconvert_exporter": "python",
   "pygments_lexer": "ipython3",
   "version": "3.6.2"
  }
 },
 "nbformat": 4,
 "nbformat_minor": 2
}
