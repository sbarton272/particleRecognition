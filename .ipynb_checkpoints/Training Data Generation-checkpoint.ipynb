{
 "cells": [
  {
   "cell_type": "code",
   "execution_count": 1,
   "metadata": {},
   "outputs": [],
   "source": [
    "import numpy as np\n",
    "import matplotlib as mpl\n",
    "import matplotlib.pyplot as plt\n",
    "from skimage import util\n",
    "from math import sqrt\n",
    "from skimage.feature import blob_dog, blob_log, blob_doh\n",
    "from skimage.color import rgb2gray\n",
    "from scipy.misc import imread\n",
    "from skimage import io\n",
    "import matplotlib.patches as patches"
   ]
  },
  {
   "cell_type": "code",
   "execution_count": 2,
   "metadata": {},
   "outputs": [],
   "source": [
    "import glob"
   ]
  },
  {
   "cell_type": "code",
   "execution_count": 3,
   "metadata": {},
   "outputs": [],
   "source": [
    "path = \"/Users/kategroschner/Box Sync/Research/Training Data/8bit/*.tif\"    \n"
   ]
  },
  {
   "cell_type": "code",
   "execution_count": 19,
   "metadata": {},
   "outputs": [
    {
     "name": "stderr",
     "output_type": "stream",
     "text": [
      "/Users/kategroschner/Documents/particleRecognition/venv/lib/python3.6/site-packages/matplotlib/pyplot.py:523: RuntimeWarning: More than 20 figures have been opened. Figures created through the pyplot interface (`matplotlib.pyplot.figure`) are retained until explicitly closed and may consume too much memory. (To control this warning, see the rcParam `figure.max_open_warning`).\n",
      "  max_open_warning, RuntimeWarning)\n"
     ]
    }
   ],
   "source": [
    "fig2 = plt.figure()\n",
    "ax2 = fig2.add_subplot(111, aspect='equal')\n",
    "for fname in glob.glob(path):\n",
    "    im = np.array(imread(fname))\n",
    "    if(len(im.shape)>=3):\n",
    "        break\n",
    "    im = im/im.mean()\n",
    "    filename = \"/Users/kategroschner/Box Sync/Research/Training Data/segmentedImages/\"\n",
    "    filename3 = \"/Users/kategroschner/Box Sync/Research/Training Data/segmentedImagesLarge/\"\n",
    "    filename2 = fname.split(\"/\")[-1]\n",
    "    filename2 = filename2.split(\".\")[0]\n",
    "    for x in range(0,15*64,64):\n",
    "        for y in range(0,15*64,64):\n",
    "            #print(x,y)\n",
    "            subim = im[x:x+128,y:y+128]\n",
    "            name = filename +filename2+str(x)+str(y)+\".png\"\n",
    "            name2 = filename3+filename2+\"_large_\"+str(x)+str(y)+\".png\"\n",
    "            plt.imsave(name,subim,cmap=\"Greys_r\")\n",
    "            ax2.imshow(im,cmap=\"Greys_r\");\n",
    "            ax2.add_patch(patches.Rectangle((y,x),128,128,fill=False,edgecolor='r')) \n",
    "            ax2.axis('off')\n",
    "            fig2.savefig(name2, dpi=90, bbox_inches='tight')\n",
    "            plt.cla()"
   ]
  },
  {
   "cell_type": "code",
   "execution_count": 5,
   "metadata": {},
   "outputs": [],
   "source": [
    "  \n",
    "            \n",
    "            # Create figure and axes\n",
    "            #fig,ax = plt.subplots(1)\n",
    "            # Create a Rectangle patch\n",
    "            #rect = patches.Rectangle((x,y+128),128,128,linewidth=1,edgecolor='r',facecolor='none')\n",
    "            # Add the patch to the Axes\n",
    "            #ax.add_patch(rect)\n",
    "            #ax.axis('off')\n",
    "            #fig.savefig(name2)"
   ]
  }
 ],
 "metadata": {
  "kernelspec": {
   "display_name": "Python 3",
   "language": "python",
   "name": "python3"
  },
  "language_info": {
   "codemirror_mode": {
    "name": "ipython",
    "version": 3
   },
   "file_extension": ".py",
   "mimetype": "text/x-python",
   "name": "python",
   "nbconvert_exporter": "python",
   "pygments_lexer": "ipython3",
   "version": "3.6.1"
  }
 },
 "nbformat": 4,
 "nbformat_minor": 2
}
