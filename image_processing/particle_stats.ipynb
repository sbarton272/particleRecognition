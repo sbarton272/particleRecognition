{
 "cells": [
  {
   "cell_type": "code",
   "execution_count": 37,
   "metadata": {},
   "outputs": [],
   "source": [
    "%matplotlib inline\n",
    "import matplotlib.pyplot as plt\n",
    "import numpy as np\n",
    "import label_stats as ls\n",
    "from skimage import io\n",
    "from glob import glob\n",
    "import os\n",
    "from pathlib import Path\n",
    "from scipy.stats import skew, skewtest"
   ]
  },
  {
   "cell_type": "code",
   "execution_count": 2,
   "metadata": {},
   "outputs": [],
   "source": [
    "data_dir = '/Users/cgroschner/Box Sync/Research/HR-TEM/particleRecognition/*'"
   ]
  },
  {
   "cell_type": "code",
   "execution_count": 3,
   "metadata": {},
   "outputs": [],
   "source": [
    "data_files = glob(data_dir)"
   ]
  },
  {
   "cell_type": "code",
   "execution_count": 4,
   "metadata": {},
   "outputs": [],
   "source": [
    "label_dict = {'101729F':{'yes':0,'no':0,'null':0},'101727H':{'yes':0,'no':0,'null':0}}\n",
    "size_dict = {'101729F':[],'101727H': []}\n",
    "for file in data_files:\n",
    "    yes = 0\n",
    "    no = 0\n",
    "    null = 0\n",
    "    txt_names = file + '/*/adjustedPNG2/*.txt' \n",
    "    txt_files = glob(txt_names)\n",
    "    for txt in txt_files:\n",
    "        if '101727H' in txt.split('/')[-3]:\n",
    "            sample = '101727H'\n",
    "        elif '101729F' in txt.split('/')[-3]:\n",
    "            sample = '101729F'\n",
    "        else:\n",
    "            print(txt.split('/')[-3])\n",
    "            raise RuntimeError('Sample not identified or of unexpected label. Please check file naming scheme.')\n",
    "        _, radii, labels, _ = ls.txt_reader(txt)\n",
    "        for label in labels:\n",
    "            if label == 'yes':\n",
    "                label_dict[sample]['yes']+=1\n",
    "            elif label == 'no':\n",
    "                label_dict[sample]['no']+=1\n",
    "            elif label == 'null':\n",
    "                label_dict[sample]['null']+=1\n",
    "        for radius in radii:\n",
    "            size_dict[sample].append(radius)"
   ]
  },
  {
   "cell_type": "code",
   "execution_count": null,
   "metadata": {},
   "outputs": [],
   "source": [
    "size_corr_H = []\n",
    "size_corr_F = []"
   ]
  },
  {
   "cell_type": "markdown",
   "metadata": {},
   "source": [
    "# Particle Stats:"
   ]
  },
  {
   "cell_type": "markdown",
   "metadata": {},
   "source": [
    "## Stats on 101727H"
   ]
  },
  {
   "cell_type": "code",
   "execution_count": 33,
   "metadata": {},
   "outputs": [
    {
     "data": {
      "image/png": "[encoded data removed]",
      "text/plain": [
       "<matplotlib.figure.Figure at 0x10cce64a8>"
      ]
     },
     "metadata": {},
     "output_type": "display_data"
    }
   ],
   "source": [
    "_ = plt.hist(np.multiply(size_dict['101727H'],0.033*2),bins =15)\n",
    "_= plt.title('101727H',color = 'r')\n",
    "_ = plt.xlabel('Diameter in Nanometers')\n",
    "_ = plt.ylabel('Count')\n",
    "# _ = plt.ylim([0,350])\n",
    "_ = plt.xlim([0,7])"
   ]
  },
  {
   "cell_type": "code",
   "execution_count": 27,
   "metadata": {},
   "outputs": [
    {
     "name": "stdout",
     "output_type": "stream",
     "text": [
      "*101727H Stats*\n",
      "\n",
      "\n",
      "mean diameter: 3.44, std: 0.27\n",
      "\n",
      "\n",
      "total particles identified: 656\n",
      "\n",
      "\n",
      "Makeup of labeled particles: yes 18.75%, no 13.41%, null 67.84%\n",
      "Makeup of atomic resolution particles: yes 58.29%, no 41.71%\n"
     ]
    }
   ],
   "source": [
    "print('*101727H Stats*')\n",
    "print('\\n')\n",
    "print('mean diameter: {0:.2f}, std: {1:.2f}'.format(np.array(size_dict['101727H']).mean()*0.033*2,np.array(size_dict['101727H']).std()*0.033))\n",
    "print('\\n')\n",
    "sum_101727H = label_dict['101727H']['yes'] + label_dict['101727H']['no'] + label_dict['101727H']['null']\n",
    "print('total particles identified: {}'.format(sum_101727H))\n",
    "print('\\n')\n",
    "print('Makeup of labeled particles: yes {0:.2f}%, no {1:.2f}%, null {2:.2f}%'.format(label_dict['101727H']['yes']/sum_101727H*100,label_dict['101727H']['no']/sum_101727H*100,label_dict['101727H']['null']/sum_101727H*100))\n",
    "percent_yes = (label_dict['101727H']['yes']/(label_dict['101727H']['yes']+label_dict['101727H']['no']))*100\n",
    "percent_no = (label_dict['101727H']['no']/(label_dict['101727H']['yes']+label_dict['101727H']['no']))*100\n",
    "print('Makeup of atomic resolution particles: yes {0:.2f}%, no {1:.2f}%'.format(percent_yes,percent_no))\n"
   ]
  },
  {
   "cell_type": "code",
   "execution_count": 38,
   "metadata": {},
   "outputs": [
    {
     "name": "stdout",
     "output_type": "stream",
     "text": [
      "1.0968974772967353\n"
     ]
    },
    {
     "data": {
      "text/plain": [
       "SkewtestResult(statistic=9.5798966202987987, pvalue=9.7142121282675706e-22)"
      ]
     },
     "execution_count": 38,
     "metadata": {},
     "output_type": "execute_result"
    }
   ],
   "source": [
    "H_nm_array = np.multiply(np.array(size_dict['101727H']),0.033*2)\n",
    "H_skew = skew(H_nm_array)\n",
    "print(H_skew)\n",
    "skewtest(H_nm_array)"
   ]
  },
  {
   "cell_type": "markdown",
   "metadata": {},
   "source": [
    "## Stats on 101729F"
   ]
  },
  {
   "cell_type": "code",
   "execution_count": 32,
   "metadata": {},
   "outputs": [
    {
     "data": {
      "image/png": "[encoded data removed]",
      "text/plain": [
       "<matplotlib.figure.Figure at 0x10e000048>"
      ]
     },
     "metadata": {},
     "output_type": "display_data"
    }
   ],
   "source": [
    "_ = plt.hist(np.multiply(size_dict['101729F'],0.033*2),bins =15)\n",
    "_ = plt.title('101279F', color = 'b')\n",
    "_ = plt.xlabel('Diameter in Nanometers')\n",
    "_ = plt.ylabel('Count')\n",
    "_ = plt.ylim([0,350])\n",
    "_ = plt.xlim([0,7])"
   ]
  },
  {
   "cell_type": "code",
   "execution_count": 28,
   "metadata": {},
   "outputs": [
    {
     "name": "stdout",
     "output_type": "stream",
     "text": [
      "*101729F Stats*\n",
      "\n",
      "\n",
      "mean diameter: 3.71, std: 0.30\n",
      "\n",
      "\n",
      "total particles identified: 1222\n",
      "\n",
      "\n",
      "Makeup of labeled particles: yes 17.43%, no 11.29%, null 71.28%\n",
      "Makeup of atomic resolution particles: yes 60.68%, no 39.32%\n"
     ]
    }
   ],
   "source": [
    "print('*101729F Stats*')\n",
    "print('\\n')\n",
    "print('mean diameter: {0:.2f}, std: {1:.2f}'.format(np.array(size_dict['101729F']).mean()*0.033*2,np.array(size_dict['101729F']).std()*0.033))\n",
    "print('\\n')\n",
    "sum_101729F = label_dict['101729F']['yes'] + label_dict['101729F']['no'] + label_dict['101729F']['null']\n",
    "print('total particles identified: {}'.format(sum_101729F))\n",
    "print('\\n')\n",
    "print('Makeup of labeled particles: yes {0:.2f}%, no {1:.2f}%, null {2:.2f}%'.format(label_dict['101729F']['yes']/sum_101729F*100,label_dict['101729F']['no']/sum_101729F*100,label_dict['101729F']['null']/sum_101729F*100))\n",
    "percent_yes = (label_dict['101729F']['yes']/(label_dict['101729F']['yes']+label_dict['101729F']['no']))*100\n",
    "percent_no = (label_dict['101729F']['no']/(label_dict['101729F']['yes']+label_dict['101729F']['no']))*100\n",
    "print('Makeup of atomic resolution particles: yes {0:.2f}%, no {1:.2f}%'.format(percent_yes,percent_no))"
   ]
  },
  {
   "cell_type": "code",
   "execution_count": 36,
   "metadata": {},
   "outputs": [
    {
     "name": "stdout",
     "output_type": "stream",
     "text": [
      "1.4399238730611885\n"
     ]
    }
   ],
   "source": [
    "F_nm_array = np.multiply(np.array(size_dict['101729F']),0.033*2)\n",
    "F_skew = skew(F_nm_array)\n",
    "print(F_skew)"
   ]
  },
  {
   "cell_type": "code",
   "execution_count": 40,
   "metadata": {},
   "outputs": [
    {
     "data": {
      "text/plain": [
       "SkewtestResult(statistic=15.6713401335474, pvalue=2.3751800003390184e-55)"
      ]
     },
     "execution_count": 40,
     "metadata": {},
     "output_type": "execute_result"
    }
   ],
   "source": [
    "skewtest(F_nm_array)"
   ]
  },
  {
   "cell_type": "markdown",
   "metadata": {},
   "source": [
    "## Exploration"
   ]
  },
  {
   "cell_type": "code",
   "execution_count": 41,
   "metadata": {},
   "outputs": [],
   "source": [
    "sort_H = np.sort(H_nm_array)\n",
    "sort_F = np.sort(F_nm_array)"
   ]
  },
  {
   "cell_type": "code",
   "execution_count": 50,
   "metadata": {},
   "outputs": [],
   "source": [
    "lim_H = np.array([x for x in sort_H if x < 5.5])\n",
    "lim_F = np.array([x for x in sort_F if x < 5.5])"
   ]
  },
  {
   "cell_type": "code",
   "execution_count": 51,
   "metadata": {},
   "outputs": [
    {
     "data": {
      "image/png": "[encoded data removed]",
      "text/plain": [
       "<matplotlib.figure.Figure at 0x10f250358>"
      ]
     },
     "metadata": {},
     "output_type": "display_data"
    }
   ],
   "source": [
    "_ = plt.hist(lim_H,bins =10)\n",
    "_= plt.title('101727H',color = 'r')\n",
    "_ = plt.xlabel('Diameter in Nanometers')\n",
    "_ = plt.ylabel('Count')\n",
    "# _ = plt.ylim([0,350])\n",
    "_ = plt.xlim([0,7])"
   ]
  },
  {
   "cell_type": "code",
   "execution_count": 52,
   "metadata": {},
   "outputs": [
    {
     "data": {
      "image/png": "[encoded data removed]",
      "text/plain": [
       "<matplotlib.figure.Figure at 0x10fd899b0>"
      ]
     },
     "metadata": {},
     "output_type": "display_data"
    }
   ],
   "source": [
    "_ = plt.hist(lim_F,bins =10)\n",
    "_ = plt.title('101279F', color = 'b')\n",
    "_ = plt.xlabel('Diameter in Nanometers')\n",
    "_ = plt.ylabel('Count')\n",
    "# _ = plt.ylim([0,350])\n",
    "_ = plt.xlim([0,7])"
   ]
  },
  {
   "cell_type": "code",
   "execution_count": 53,
   "metadata": {},
   "outputs": [
    {
     "name": "stdout",
     "output_type": "stream",
     "text": [
      "mean diameter H: 3.43, std: 0.51\n",
      "mean diameter F: 3.66, std: 0.48\n"
     ]
    }
   ],
   "source": [
    "print('mean diameter H: {0:.2f}, std: {1:.2f}'.format(lim_H.mean(),lim_H.std()))\n",
    "print('mean diameter F: {0:.2f}, std: {1:.2f}'.format(lim_F.mean(),lim_F.std()))\n"
   ]
  },
  {
   "cell_type": "code",
   "execution_count": 54,
   "metadata": {},
   "outputs": [
    {
     "name": "stdout",
     "output_type": "stream",
     "text": [
      "Skew of H: 0.7533335397259423\n",
      "Skew of F: 0.526079823799774\n"
     ]
    }
   ],
   "source": [
    "print('Skew of H: {}'.format(skew(lim_H)))\n",
    "print('Skew of F: {}'.format(skew(lim_F)))"
   ]
  },
  {
   "cell_type": "code",
   "execution_count": 55,
   "metadata": {},
   "outputs": [
    {
     "name": "stdout",
     "output_type": "stream",
     "text": [
      "Skewtest of H: SkewtestResult(statistic=7.1377945343285898, pvalue=9.4840249954096212e-13)\n",
      "Skewtest of F: SkewtestResult(statistic=7.023741062336736, pvalue=2.160049632502937e-12)\n"
     ]
    }
   ],
   "source": [
    "print('Skewtest of H: {}'.format(skewtest(lim_H)))\n",
    "print('Skewtest of F: {}'.format(skewtest(lim_F)))"
   ]
  },
  {
   "cell_type": "code",
   "execution_count": null,
   "metadata": {},
   "outputs": [],
   "source": []
  }
 ],
 "metadata": {
  "kernelspec": {
   "display_name": "Python 3",
   "language": "python",
   "name": "python3"
  },
  "language_info": {
   "codemirror_mode": {
    "name": "ipython",
    "version": 3
   },
   "file_extension": ".py",
   "mimetype": "text/x-python",
   "name": "python",
   "nbconvert_exporter": "python",
   "pygments_lexer": "ipython3",
   "version": "3.6.2"
  }
 },
 "nbformat": 4,
 "nbformat_minor": 2
}
