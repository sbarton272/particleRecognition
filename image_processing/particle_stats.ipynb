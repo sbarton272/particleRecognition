{
 "cells": [
  {
   "cell_type": "code",
   "execution_count": 2,
   "metadata": {},
   "outputs": [],
   "source": [
    "%matplotlib inline\n",
    "import matplotlib.pyplot as plt\n",
    "import numpy as np\n",
    "import label_stats as ls\n",
    "from skimage import io\n",
    "from glob import glob\n",
    "import os\n",
    "from pathlib import Path"
   ]
  },
  {
   "cell_type": "code",
   "execution_count": 3,
   "metadata": {},
   "outputs": [],
   "source": [
    "data_dir = '/Users/cgroschner/Box Sync/Research/HR-TEM/particleRecognition/*'"
   ]
  },
  {
   "cell_type": "code",
   "execution_count": 4,
   "metadata": {},
   "outputs": [],
   "source": [
    "data_files = glob(data_dir)"
   ]
  },
  {
   "cell_type": "code",
   "execution_count": 5,
   "metadata": {},
   "outputs": [],
   "source": [
    "label_dict = {'101729F':{'yes':0,'no':0,'null':0},'101727H':{'yes':0,'no':0,'null':0}}\n",
    "size_dict = {'101729F':[],'101727H': []}\n",
    "for file in data_files:\n",
    "    yes = 0\n",
    "    no = 0\n",
    "    null = 0\n",
    "    txt_names = file + '/*/adjustedPNG2/*.txt' \n",
    "    txt_files = glob(txt_names)\n",
    "    for txt in txt_files:\n",
    "        if '101727H' in txt.split('/')[-3]:\n",
    "            sample = '101727H'\n",
    "        elif '101729F' in txt.split('/')[-3]:\n",
    "            sample = '101729F'\n",
    "        else:\n",
    "            print(txt.split('/')[-3])\n",
    "            raise RuntimeError('Sample not identified or of unexpected label. Please check file naming scheme.')\n",
    "        _, radii, labels, _ = ls.txt_reader(txt)\n",
    "        for label in labels:\n",
    "            if label == 'yes':\n",
    "                label_dict[sample]['yes']+=1\n",
    "            elif label == 'no':\n",
    "                label_dict[sample]['no']+=1\n",
    "            elif label == 'null':\n",
    "                label_dict[sample]['null']+=1\n",
    "        for radius in radii:\n",
    "            size_dict[sample].append(radius)"
   ]
  },
  {
   "cell_type": "markdown",
   "metadata": {},
   "source": [
    "# Particle Stats:"
   ]
  },
  {
   "cell_type": "markdown",
   "metadata": {},
   "source": [
    "## Stats on 101729H"
   ]
  },
  {
   "cell_type": "code",
   "execution_count": 6,
   "metadata": {},
   "outputs": [
    {
     "data": {
      "image/png": "[encoded data removed]",
      "text/plain": [
       "<matplotlib.figure.Figure at 0x10da85748>"
      ]
     },
     "metadata": {},
     "output_type": "display_data"
    }
   ],
   "source": [
    "_ = plt.hist(size_dict['101727H'],bins =10)\n",
    "_= plt.title('101727H',color = 'r')\n",
    "_ = plt.xlabel('Radius in Pixels')\n",
    "_ = plt.ylabel('Count')"
   ]
  },
  {
   "cell_type": "code",
   "execution_count": 11,
   "metadata": {},
   "outputs": [
    {
     "name": "stdout",
     "output_type": "stream",
     "text": [
      "*101727H Stats*\n",
      "\n",
      "\n",
      "mean radius: 52.16, std: 8.15\n",
      "\n",
      "\n",
      "total particles identified: 656\n",
      "\n",
      "\n",
      "Makeup of labeled particles: yes 18.75%, no 13.41%, null 67.84%\n",
      "Makeup of atomic resolution particles: yes 58.29%, no 41.71%\n"
     ]
    }
   ],
   "source": [
    "print('*101727H Stats*')\n",
    "print('\\n')\n",
    "print('mean radius: {0:.2f}, std: {1:.2f}'.format(np.array(size_dict['101727H']).mean(),np.array(size_dict['101727H']).std()))\n",
    "print('\\n')\n",
    "sum_101727H = label_dict['101727H']['yes'] + label_dict['101727H']['no'] + label_dict['101727H']['null']\n",
    "print('total particles identified: {}'.format(sum_101727H))\n",
    "print('\\n')\n",
    "print('Makeup of labeled particles: yes {0:.2f}%, no {1:.2f}%, null {2:.2f}%'.format(label_dict['101727H']['yes']/sum_101727H*100,label_dict['101727H']['no']/sum_101727H*100,label_dict['101727H']['null']/sum_101727H*100))\n",
    "percent_yes = (label_dict['101727H']['yes']/(label_dict['101727H']['yes']+label_dict['101727H']['no']))*100\n",
    "percent_no = (label_dict['101727H']['no']/(label_dict['101727H']['yes']+label_dict['101727H']['no']))*100\n",
    "print('Makeup of atomic resolution particles: yes {0:.2f}%, no {1:.2f}%'.format(percent_yes,percent_no))\n"
   ]
  },
  {
   "cell_type": "markdown",
   "metadata": {},
   "source": [
    "## Stats on 101279F"
   ]
  },
  {
   "cell_type": "code",
   "execution_count": null,
   "metadata": {},
   "outputs": [],
   "source": [
    "_ = plt.hist(size_dict['101729F'],bins =10)\n",
    "_ = plt.title('101279F', color = 'b')\n",
    "_ = plt.xlabel('Radius in Pixels')\n",
    "_ = plt.ylabel('Count')"
   ]
  },
  {
   "cell_type": "code",
   "execution_count": 12,
   "metadata": {},
   "outputs": [
    {
     "name": "stdout",
     "output_type": "stream",
     "text": [
      "*101729F Stats*\n",
      "\n",
      "\n",
      "mean radius: 56.27, std: 9.00\n",
      "\n",
      "\n",
      "total particles identified: 1222\n",
      "\n",
      "\n",
      "Makeup of labeled particles: yes 17.43%, no 11.29%, null 71.28%\n",
      "Makeup of atomic resolution particles: yes 60.68%, no 39.32%\n"
     ]
    }
   ],
   "source": [
    "print('*101729F Stats*')\n",
    "print('\\n')\n",
    "print('mean radius: {0:.2f}, std: {1:.2f}'.format(np.array(size_dict['101729F']).mean(),np.array(size_dict['101729F']).std()))\n",
    "print('\\n')\n",
    "sum_101729F = label_dict['101729F']['yes'] + label_dict['101729F']['no'] + label_dict['101729F']['null']\n",
    "print('total particles identified: {}'.format(sum_101729F))\n",
    "print('\\n')\n",
    "print('Makeup of labeled particles: yes {0:.2f}%, no {1:.2f}%, null {2:.2f}%'.format(label_dict['101729F']['yes']/sum_101729F*100,label_dict['101729F']['no']/sum_101729F*100,label_dict['101729F']['null']/sum_101729F*100))\n",
    "percent_yes = (label_dict['101729F']['yes']/(label_dict['101729F']['yes']+label_dict['101729F']['no']))*100\n",
    "percent_no = (label_dict['101729F']['no']/(label_dict['101729F']['yes']+label_dict['101729F']['no']))*100\n",
    "print('Makeup of atomic resolution particles: yes {0:.2f}%, no {1:.2f}%'.format(percent_yes,percent_no))"
   ]
  },
  {
   "cell_type": "code",
   "execution_count": null,
   "metadata": {},
   "outputs": [],
   "source": []
  }
 ],
 "metadata": {
  "kernelspec": {
   "display_name": "Python 3",
   "language": "python",
   "name": "python3"
  },
  "language_info": {
   "codemirror_mode": {
    "name": "ipython",
    "version": 3
   },
   "file_extension": ".py",
   "mimetype": "text/x-python",
   "name": "python",
   "nbconvert_exporter": "python",
   "pygments_lexer": "ipython3",
   "version": "3.6.2"
  }
 },
 "nbformat": 4,
 "nbformat_minor": 2
}
