{
 "cells": [
  {
   "cell_type": "code",
   "execution_count": 5,
   "metadata": {},
   "outputs": [],
   "source": [
    "import numpy as np\n",
    "import matplotlib as mpl\n",
    "import matplotlib.pyplot as plt\n",
    "from skimage import util\n",
    "from skimage.color import rgb2gray\n",
    "from scipy.misc import imread\n",
    "from skimage import io\n",
    "import matplotlib.patches as patches\n",
    "import glob\n",
    "import os"
   ]
  },
  {
   "cell_type": "code",
   "execution_count": 14,
   "metadata": {},
   "outputs": [
    {
     "name": "stdout",
     "output_type": "stream",
     "text": [
      "False\n",
      "/Users/cgroschner/Box Sync/Research/TrainData_StackingFault/input/*.tif\n"
     ]
    }
   ],
   "source": [
    "if os.path.exists(\"/Users/kategroschner\") == True:\n",
    "    path = \"/Users/kategroschner/Box Sync/Research/TrainData_StackingFault/input/*.tif\" \n",
    "    filename = \"/Users/kategroschner/Box Sync/Research/TrainData_StackingFault/segmentedImages/\"\n",
    "else:\n",
    "    path = \"/Users/cgroschner/Box Sync/Research/TrainData_StackingFault/input/*.tif\" \n",
    "    filename = \"/Users/cgroschner/Box Sync/Research/TrainData_StackingFault/segmentedImages/\"\n",
    "\n",
    "print(os.path.exists(path))\n",
    "print(path)\n",
    "for fname in glob.glob(path):\n",
    "    im = np.array(imread(fname))\n",
    "    if(len(im.shape)>=3):\n",
    "        print(len(im.shape))\n",
    "        break\n",
    "    im = im/im.mean()\n",
    "    filename2 = fname.split(\"/\")[-1]\n",
    "    filename2 = filename2.split(\".\")[0]\n",
    "    for x in range(0,15*64,64):\n",
    "        for y in range(0,15*64,64):\n",
    "            #print(x,y)\n",
    "            subim = im[x:x+256,y:y+256]\n",
    "            name = filename +filename2+str(x)+str(y)+\".png\"\n",
    "            plt.imsave(name,subim,cmap=\"Greys_r\")\n",
    "            plt.cla()\n",
    "            break"
   ]
  },
  {
   "cell_type": "code",
   "execution_count": null,
   "metadata": {},
   "outputs": [],
   "source": []
  }
 ],
 "metadata": {
  "kernelspec": {
   "display_name": "Python 3",
   "language": "python",
   "name": "python3"
  },
  "language_info": {
   "codemirror_mode": {
    "name": "ipython",
    "version": 3
   },
   "file_extension": ".py",
   "mimetype": "text/x-python",
   "name": "python",
   "nbconvert_exporter": "python",
   "pygments_lexer": "ipython3",
   "version": "3.6.2"
  }
 },
 "nbformat": 4,
 "nbformat_minor": 2
}
