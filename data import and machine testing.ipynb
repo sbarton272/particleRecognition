{
 "cells": [
  {
   "cell_type": "code",
   "execution_count": 1,
   "metadata": {},
   "outputs": [],
   "source": [
    "import numpy as np\n",
    "from scipy.misc import imread\n",
    "import glob\n",
    "from skimage import util \n",
    "from skimage import io as io\n",
    "import pickle\n",
    "import os\n",
    "import matplotlib.pyplot as plt\n",
    "%matplotlib inline"
   ]
  },
  {
   "cell_type": "code",
   "execution_count": 2,
   "metadata": {},
   "outputs": [],
   "source": [
    "try:\n",
    "    path = \"/Users/cgroschner/Box Sync/Research/Training Data/SegmentedImages_DotNoFringe\"    \n",
    "    path2 = \"/Users/cgroschner/Box Sync/Research/Training Data/SegmentedImage_Nothing\"\n",
    "\n",
    "    name = \".\"\n",
    "    length1 = len([name for name in os.listdir(path) if os.path.isfile(os.path.join(path, name))])\n",
    "    length2 = len([name for name in os.listdir(path2) if os.path.isfile(os.path.join(path2, name))])\n",
    "except:\n",
    "    path = \"/Users/kategroschner/Box Sync/Research/Training Data/SegmentedImages_DotNoFringe\"    \n",
    "    path2 = \"/Users/kategroschner/Box Sync/Research/Training Data/SegmentedImage_Nothing\"\n",
    "\n",
    "    name = \".\"\n",
    "    length1 = len([name for name in os.listdir(path) if os.path.isfile(os.path.join(path, name))])\n",
    "    length2 = len([name for name in os.listdir(path2) if os.path.isfile(os.path.join(path2, name))])\n",
    "\n",
    "path = path + \"/*.png\"    \n",
    "path2 = path2 +\"/*.png\"\n",
    "\n",
    "label = 1 #to indicate contains particle\n",
    "label2 = 0 #indicates contains no particle\n",
    "\n",
    "\n",
    "i = 0\n",
    "for fname in glob.glob(path):\n",
    "    #files = io.imread_collection(fname,True)\n",
    "    im = np.array(imread(fname,flatten=True))\n",
    "    if i == 0:\n",
    "        data = np.reshape(im,(1,-1))\n",
    "        data = np.append(data,np.reshape(np.rot90(im,1),(1,-1)),axis = 0)\n",
    "        data = np.append(data,np.reshape(np.rot90(im,2),(1,-1)),axis = 0)\n",
    "        data = np.append(data,np.reshape(np.rot90(im,3),(1,-1)),axis = 0)\n",
    "        data = np.append(data,np.reshape(np.flipud(im),(1,-1)),axis = 0)\n",
    "        data = np.append(data,np.reshape(np.fliplr(im),(1,-1)),axis = 0)\n",
    "        \n",
    "    else:\n",
    "        data = np.append(data,np.reshape(im,(1,-1)),axis = 0)\n",
    "        data = np.append(data,np.reshape(np.rot90(im,1),(1,-1)),axis = 0)\n",
    "        data = np.append(data,np.reshape(np.rot90(im,2),(1,-1)),axis = 0)\n",
    "        data = np.append(data,np.reshape(np.rot90(im,3),(1,-1)),axis = 0)\n",
    "        data = np.append(data,np.reshape(np.flipud(im),(1,-1)),axis = 0)\n",
    "        data = np.append(data,np.reshape(np.fliplr(im),(1,-1)),axis = 0)\n",
    "    i = i+1   "
   ]
  },
  {
   "cell_type": "code",
   "execution_count": 3,
   "metadata": {},
   "outputs": [],
   "source": [
    "j = 0\n",
    "for fname in glob.glob(path2):\n",
    "    #files = io.imread_collection(fname,True)\n",
    "    im = np.array(imread(fname,flatten=True))\n",
    "    if j == 0:\n",
    "        data2 = np.reshape(im,(1,-1))     \n",
    "    else:\n",
    "        data2 = np.append(data2,np.reshape(im,(1,-1)),axis = 0)\n",
    "    j = j+1  "
   ]
  },
  {
   "cell_type": "code",
   "execution_count": null,
   "metadata": {},
   "outputs": [],
   "source": []
  }
 ],
 "metadata": {
  "kernelspec": {
   "display_name": "Python 3",
   "language": "python",
   "name": "python3"
  },
  "language_info": {
   "codemirror_mode": {
    "name": "ipython",
    "version": 3
   },
   "file_extension": ".py",
   "mimetype": "text/x-python",
   "name": "python",
   "nbconvert_exporter": "python",
   "pygments_lexer": "ipython3",
   "version": "3.6.2"
  }
 },
 "nbformat": 4,
 "nbformat_minor": 2
}
