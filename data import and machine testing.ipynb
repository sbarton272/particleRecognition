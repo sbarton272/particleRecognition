{
 "cells": [
  {
   "cell_type": "code",
   "execution_count": 1,
   "metadata": {},
   "outputs": [],
   "source": [
    "import numpy as np\n",
    "from scipy.misc import imread\n",
    "import glob\n",
    "from skimage import util \n",
    "from skimage import io as io\n",
    "import pickle\n",
    "import os\n",
    "import matplotlib.pyplot as plt\n",
    "%matplotlib inline"
   ]
  },
  {
   "cell_type": "code",
   "execution_count": 2,
   "metadata": {},
   "outputs": [],
   "source": [
    "try:\n",
    "    path = \"/Users/cgroschner/Box Sync/Research/Training Data/SegmentedImages_DotNoFringe\"    \n",
    "    path2 = \"/Users/cgroschner/Box Sync/Research/Training Data/SegmentedImage_Nothing\"\n",
    "\n",
    "    name = \".\"\n",
    "    length1 = len([name for name in os.listdir(path) if os.path.isfile(os.path.join(path, name))])\n",
    "    length2 = len([name for name in os.listdir(path2) if os.path.isfile(os.path.join(path2, name))])\n",
    "except:\n",
    "    path = \"/Users/kategroschner/Box Sync/Research/Training Data/SegmentedImages_DotNoFringe\"    \n",
    "    path2 = \"/Users/kategroschner/Box Sync/Research/Training Data/SegmentedImage_Nothing\"\n",
    "\n",
    "    name = \".\"\n",
    "    length1 = len([name for name in os.listdir(path) if os.path.isfile(os.path.join(path, name))])\n",
    "    length2 = len([name for name in os.listdir(path2) if os.path.isfile(os.path.join(path2, name))])\n",
    "\n",
    "path = path + \"/*.png\"    \n",
    "path2 = path2 +\"/*.png\"\n",
    "\n",
    "label = 1 #to indicate contains particle\n",
    "label2 = 0 #indicates contains no particle\n",
    "\n",
    "\n",
    "i = 0\n",
    "for fname in glob.glob(path):\n",
    "    #files = io.imread_collection(fname,True)\n",
    "    im = np.array(imread(fname,flatten=True))\n",
    "    if i == 0:\n",
    "        data = np.reshape(im,(1,-1))\n",
    "        data = np.append(data,np.reshape(np.rot90(im,1),(1,-1)),axis = 0)\n",
    "        data = np.append(data,np.reshape(np.rot90(im,2),(1,-1)),axis = 0)\n",
    "        data = np.append(data,np.reshape(np.rot90(im,3),(1,-1)),axis = 0)\n",
    "        data = np.append(data,np.reshape(np.flipud(im),(1,-1)),axis = 0)\n",
    "        data = np.append(data,np.reshape(np.fliplr(im),(1,-1)),axis = 0)\n",
    "        \n",
    "    else:\n",
    "        data = np.append(data,np.reshape(im,(1,-1)),axis = 0)\n",
    "        data = np.append(data,np.reshape(np.rot90(im,1),(1,-1)),axis = 0)\n",
    "        data = np.append(data,np.reshape(np.rot90(im,2),(1,-1)),axis = 0)\n",
    "        data = np.append(data,np.reshape(np.rot90(im,3),(1,-1)),axis = 0)\n",
    "        data = np.append(data,np.reshape(np.flipud(im),(1,-1)),axis = 0)\n",
    "        data = np.append(data,np.reshape(np.fliplr(im),(1,-1)),axis = 0)\n",
    "    i = i+1   "
   ]
  },
  {
   "cell_type": "code",
   "execution_count": 3,
   "metadata": {},
   "outputs": [],
   "source": [
    "j = 0\n",
    "for fname in glob.glob(path2):\n",
    "    #files = io.imread_collection(fname,True)\n",
    "    im = np.array(imread(fname,flatten=True))\n",
    "    if j == 0:\n",
    "        data2 = np.reshape(im,(1,-1))     \n",
    "    else:\n",
    "        data2 = np.append(data2,np.reshape(im,(1,-1)),axis = 0)\n",
    "    j = j+1  "
   ]
  },
  {
   "cell_type": "code",
   "execution_count": 6,
   "metadata": {},
   "outputs": [
    {
     "name": "stdout",
     "output_type": "stream",
     "text": [
      "(210,)\n",
      "(1504,)\n"
     ]
    }
   ],
   "source": [
    "target = np.ones([210,])\n",
    "target2 = np.zeros([1504,])\n",
    "print(target.shape)\n",
    "print(target2.shape)"
   ]
  },
  {
   "cell_type": "code",
   "execution_count": 7,
   "metadata": {},
   "outputs": [],
   "source": [
    "total_data = np.concatenate((data,data2),axis = 0)\n",
    "total_targets = np.concatenate((target,target2),axis =0)"
   ]
  },
  {
   "cell_type": "code",
   "execution_count": 8,
   "metadata": {},
   "outputs": [],
   "source": [
    "from sklearn.model_selection import train_test_split\n",
    "data_train, data_test, target_train, target_test = train_test_split(total_data, total_targets, test_size=0.25, random_state=42)"
   ]
  },
  {
   "cell_type": "code",
   "execution_count": 9,
   "metadata": {},
   "outputs": [
    {
     "name": "stderr",
     "output_type": "stream",
     "text": [
      "/Users/kategroschner/Documents/particleRecognition/venv/lib/python3.6/site-packages/sklearn/linear_model/stochastic_gradient.py:84: FutureWarning: max_iter and tol parameters have been added in <class 'sklearn.linear_model.stochastic_gradient.SGDClassifier'> in 0.19. If both are left unset, they default to max_iter=5 and tol=None. If tol is not None, max_iter defaults to max_iter=1000. From 0.21, default max_iter will be 1000, and default tol will be 1e-3.\n",
      "  \"and default tol will be 1e-3.\" % type(self), FutureWarning)\n"
     ]
    },
    {
     "data": {
      "text/plain": [
       "SGDClassifier(alpha=0.0001, average=False, class_weight=None, epsilon=0.1,\n",
       "       eta0=0.0, fit_intercept=True, l1_ratio=0.15,\n",
       "       learning_rate='optimal', loss='hinge', max_iter=5, n_iter=None,\n",
       "       n_jobs=1, penalty='l2', power_t=0.5, random_state=42, shuffle=True,\n",
       "       tol=None, verbose=0, warm_start=False)"
      ]
     },
     "execution_count": 9,
     "metadata": {},
     "output_type": "execute_result"
    }
   ],
   "source": [
    "from sklearn.linear_model import SGDClassifier\n",
    "sgd_clf = SGDClassifier(random_state=42)\n",
    "sgd_clf.fit(data_train,target_train)"
   ]
  },
  {
   "cell_type": "code",
   "execution_count": 10,
   "metadata": {},
   "outputs": [
    {
     "data": {
      "text/plain": [
       "array([[384,   1],\n",
       "       [ 13,  31]])"
      ]
     },
     "execution_count": 10,
     "metadata": {},
     "output_type": "execute_result"
    }
   ],
   "source": [
    "from sklearn.metrics import confusion_matrix\n",
    "prediticions = sgd_clf.predict(data_test)\n",
    "confusion_matrix(target_test,prediticions)"
   ]
  },
  {
   "cell_type": "code",
   "execution_count": 12,
   "metadata": {},
   "outputs": [
    {
     "data": {
      "text/plain": [
       "array([[1100,   19],\n",
       "       [  26,  140]])"
      ]
     },
     "execution_count": 12,
     "metadata": {},
     "output_type": "execute_result"
    }
   ],
   "source": [
    "from sklearn.model_selection import cross_val_score\n",
    "from sklearn.model_selection import cross_val_predict\n",
    "cross_val_score(sgd_clf,data_train,target_train,cv=3,scoring=\"accuracy\")\n",
    "target_train_pred = cross_val_predict(sgd_clf,data_train,target_train,cv=3)\n",
    "confusion_matrix(target_train,target_train_pred)"
   ]
  },
  {
   "cell_type": "code",
   "execution_count": 15,
   "metadata": {},
   "outputs": [
    {
     "data": {
      "text/plain": [
       "[<matplotlib.lines.Line2D at 0x10e9a12e8>]"
      ]
     },
     "execution_count": 15,
     "metadata": {},
     "output_type": "execute_result"
    },
    {
     "data": {
      "image/png": "[encoded data removed]",
      "text/plain": [
       "<matplotlib.figure.Figure at 0x10e9414e0>"
      ]
     },
     "metadata": {},
     "output_type": "display_data"
    }
   ],
   "source": [
    "from sklearn.metrics import roc_curve\n",
    "from sklearn.metrics import precision_recall_curve\n",
    "target_scores = cross_val_predict(sgd_clf,data_train,target_train,cv=3,method = \"decision_function\")\n",
    "if target_scores.ndim ==2:\n",
    "    target_scores=target_scores[:,1]\n",
    "precisions, recalls, thresholds = precision_recall_curve(target_train, target_scores)\n",
    "sgd_fpr, sgd_tpr, sgd_thresholds = roc_curve(target_train, target_scores)\n",
    "plt.plot(sgd_fpr, sgd_tpr)"
   ]
  },
  {
   "cell_type": "code",
   "execution_count": 19,
   "metadata": {},
   "outputs": [
    {
     "data": {
      "text/plain": [
       "0.98678897897218898"
      ]
     },
     "execution_count": 19,
     "metadata": {},
     "output_type": "execute_result"
    }
   ],
   "source": [
    "from sklearn.metrics import roc_auc_score\n",
    "roc_auc_score(target_train,target_scores)"
   ]
  },
  {
   "cell_type": "code",
   "execution_count": null,
   "metadata": {},
   "outputs": [],
   "source": []
  }
 ],
 "metadata": {
  "anaconda-cloud": {},
  "kernelspec": {
   "display_name": "Python [default]",
   "language": "python",
   "name": "python3"
  },
  "language_info": {
   "codemirror_mode": {
    "name": "ipython",
    "version": 3
   },
   "file_extension": ".py",
   "mimetype": "text/x-python",
   "name": "python",
   "nbconvert_exporter": "python",
   "pygments_lexer": "ipython3",
   "version": "3.6.4"
  }
 },
 "nbformat": 4,
 "nbformat_minor": 2
}
